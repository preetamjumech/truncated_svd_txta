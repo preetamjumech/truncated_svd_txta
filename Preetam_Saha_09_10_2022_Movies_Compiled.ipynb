{
  "nbformat": 4,
  "nbformat_minor": 0,
  "metadata": {
    "colab": {
      "provenance": [],
      "collapsed_sections": [],
      "authorship_tag": "ABX9TyNnDNSi5ecUGC4PYFyeNmit",
      "include_colab_link": true
    },
    "kernelspec": {
      "name": "python3",
      "display_name": "Python 3"
    },
    "language_info": {
      "name": "python"
    }
  },
  "cells": [
    {
      "cell_type": "markdown",
      "metadata": {
        "id": "view-in-github",
        "colab_type": "text"
      },
      "source": [
        "<a href=\"https://colab.research.google.com/github/preetamjumech/truncated_svd_txta/blob/main/Preetam_Saha_09_10_2022_Movies_Compiled.ipynb\" target=\"_parent\"><img src=\"https://colab.research.google.com/assets/colab-badge.svg\" alt=\"Open In Colab\"/></a>"
      ]
    },
    {
      "cell_type": "code",
      "source": [
        "from google.colab import drive\n",
        "drive.mount('/content/drive')"
      ],
      "metadata": {
        "colab": {
          "base_uri": "https://localhost:8080/"
        },
        "id": "Q6LTwaxE1fhq",
        "outputId": "7ed207f5-63e9-46ed-c111-dfa35817ebbd"
      },
      "execution_count": 1,
      "outputs": [
        {
          "output_type": "stream",
          "name": "stdout",
          "text": [
            "Mounted at /content/drive\n"
          ]
        }
      ]
    },
    {
      "cell_type": "code",
      "source": [
        "import pandas as pd\n",
        "import numpy as np\n",
        "import seaborn as sns\n",
        "import matplotlib.pyplot as plt\n",
        "import matplotlib\n",
        "matplotlib.rcParams[\"figure.figsize\"]=(20,10)"
      ],
      "metadata": {
        "id": "SkIV-9ul2DwF"
      },
      "execution_count": 2,
      "outputs": []
    },
    {
      "cell_type": "code",
      "source": [
        "data = pd.read_csv(\"/content/drive/MyDrive/Movie_Compiled.csv\")\n",
        "data.head()"
      ],
      "metadata": {
        "colab": {
          "base_uri": "https://localhost:8080/",
          "height": 206
        },
        "id": "oxJy9yLx2GBA",
        "outputId": "754cc386-7947-4a19-82b5-36d9c5fe19e1"
      },
      "execution_count": 3,
      "outputs": [
        {
          "output_type": "execute_result",
          "data": {
            "text/plain": [
              "  Rating           Date                                              Title  \\\n",
              "0         12 April 2012  An Unstoppable Force of Awesomeness! All Hail ...   \n",
              "1         19 April 2012  They balanced everything masterfully. As Good ...   \n",
              "2   10.0  20 April 2012                  The Avengers assembled flawlessly   \n",
              "3    9.0  16 April 2012          LA Review of 'The Avengers' (No spoilers)   \n",
              "4   10.0    2 July 2017  Bad-ass descent-amazing superhero MCU action f...   \n",
              "\n",
              "                                              Review  \n",
              "0  I have got to tell anyone who will listen that...  \n",
              "1  If you're a fan of epic adventure movies, then...  \n",
              "2  I'm sorry to say The Avengers isn't a good mov...  \n",
              "3  LA Review of 'The Avengers' (No spoilers)\\r\\n\\...  \n",
              "4  Marvel's The Avengers (2012) is an awesome des...  "
            ],
            "text/html": [
              "\n",
              "  <div id=\"df-26381438-f8d5-4cce-9105-49d44daf05b6\">\n",
              "    <div class=\"colab-df-container\">\n",
              "      <div>\n",
              "<style scoped>\n",
              "    .dataframe tbody tr th:only-of-type {\n",
              "        vertical-align: middle;\n",
              "    }\n",
              "\n",
              "    .dataframe tbody tr th {\n",
              "        vertical-align: top;\n",
              "    }\n",
              "\n",
              "    .dataframe thead th {\n",
              "        text-align: right;\n",
              "    }\n",
              "</style>\n",
              "<table border=\"1\" class=\"dataframe\">\n",
              "  <thead>\n",
              "    <tr style=\"text-align: right;\">\n",
              "      <th></th>\n",
              "      <th>Rating</th>\n",
              "      <th>Date</th>\n",
              "      <th>Title</th>\n",
              "      <th>Review</th>\n",
              "    </tr>\n",
              "  </thead>\n",
              "  <tbody>\n",
              "    <tr>\n",
              "      <th>0</th>\n",
              "      <td></td>\n",
              "      <td>12 April 2012</td>\n",
              "      <td>An Unstoppable Force of Awesomeness! All Hail ...</td>\n",
              "      <td>I have got to tell anyone who will listen that...</td>\n",
              "    </tr>\n",
              "    <tr>\n",
              "      <th>1</th>\n",
              "      <td></td>\n",
              "      <td>19 April 2012</td>\n",
              "      <td>They balanced everything masterfully. As Good ...</td>\n",
              "      <td>If you're a fan of epic adventure movies, then...</td>\n",
              "    </tr>\n",
              "    <tr>\n",
              "      <th>2</th>\n",
              "      <td>10.0</td>\n",
              "      <td>20 April 2012</td>\n",
              "      <td>The Avengers assembled flawlessly</td>\n",
              "      <td>I'm sorry to say The Avengers isn't a good mov...</td>\n",
              "    </tr>\n",
              "    <tr>\n",
              "      <th>3</th>\n",
              "      <td>9.0</td>\n",
              "      <td>16 April 2012</td>\n",
              "      <td>LA Review of 'The Avengers' (No spoilers)</td>\n",
              "      <td>LA Review of 'The Avengers' (No spoilers)\\r\\n\\...</td>\n",
              "    </tr>\n",
              "    <tr>\n",
              "      <th>4</th>\n",
              "      <td>10.0</td>\n",
              "      <td>2 July 2017</td>\n",
              "      <td>Bad-ass descent-amazing superhero MCU action f...</td>\n",
              "      <td>Marvel's The Avengers (2012) is an awesome des...</td>\n",
              "    </tr>\n",
              "  </tbody>\n",
              "</table>\n",
              "</div>\n",
              "      <button class=\"colab-df-convert\" onclick=\"convertToInteractive('df-26381438-f8d5-4cce-9105-49d44daf05b6')\"\n",
              "              title=\"Convert this dataframe to an interactive table.\"\n",
              "              style=\"display:none;\">\n",
              "        \n",
              "  <svg xmlns=\"http://www.w3.org/2000/svg\" height=\"24px\"viewBox=\"0 0 24 24\"\n",
              "       width=\"24px\">\n",
              "    <path d=\"M0 0h24v24H0V0z\" fill=\"none\"/>\n",
              "    <path d=\"M18.56 5.44l.94 2.06.94-2.06 2.06-.94-2.06-.94-.94-2.06-.94 2.06-2.06.94zm-11 1L8.5 8.5l.94-2.06 2.06-.94-2.06-.94L8.5 2.5l-.94 2.06-2.06.94zm10 10l.94 2.06.94-2.06 2.06-.94-2.06-.94-.94-2.06-.94 2.06-2.06.94z\"/><path d=\"M17.41 7.96l-1.37-1.37c-.4-.4-.92-.59-1.43-.59-.52 0-1.04.2-1.43.59L10.3 9.45l-7.72 7.72c-.78.78-.78 2.05 0 2.83L4 21.41c.39.39.9.59 1.41.59.51 0 1.02-.2 1.41-.59l7.78-7.78 2.81-2.81c.8-.78.8-2.07 0-2.86zM5.41 20L4 18.59l7.72-7.72 1.47 1.35L5.41 20z\"/>\n",
              "  </svg>\n",
              "      </button>\n",
              "      \n",
              "  <style>\n",
              "    .colab-df-container {\n",
              "      display:flex;\n",
              "      flex-wrap:wrap;\n",
              "      gap: 12px;\n",
              "    }\n",
              "\n",
              "    .colab-df-convert {\n",
              "      background-color: #E8F0FE;\n",
              "      border: none;\n",
              "      border-radius: 50%;\n",
              "      cursor: pointer;\n",
              "      display: none;\n",
              "      fill: #1967D2;\n",
              "      height: 32px;\n",
              "      padding: 0 0 0 0;\n",
              "      width: 32px;\n",
              "    }\n",
              "\n",
              "    .colab-df-convert:hover {\n",
              "      background-color: #E2EBFA;\n",
              "      box-shadow: 0px 1px 2px rgba(60, 64, 67, 0.3), 0px 1px 3px 1px rgba(60, 64, 67, 0.15);\n",
              "      fill: #174EA6;\n",
              "    }\n",
              "\n",
              "    [theme=dark] .colab-df-convert {\n",
              "      background-color: #3B4455;\n",
              "      fill: #D2E3FC;\n",
              "    }\n",
              "\n",
              "    [theme=dark] .colab-df-convert:hover {\n",
              "      background-color: #434B5C;\n",
              "      box-shadow: 0px 1px 3px 1px rgba(0, 0, 0, 0.15);\n",
              "      filter: drop-shadow(0px 1px 2px rgba(0, 0, 0, 0.3));\n",
              "      fill: #FFFFFF;\n",
              "    }\n",
              "  </style>\n",
              "\n",
              "      <script>\n",
              "        const buttonEl =\n",
              "          document.querySelector('#df-26381438-f8d5-4cce-9105-49d44daf05b6 button.colab-df-convert');\n",
              "        buttonEl.style.display =\n",
              "          google.colab.kernel.accessAllowed ? 'block' : 'none';\n",
              "\n",
              "        async function convertToInteractive(key) {\n",
              "          const element = document.querySelector('#df-26381438-f8d5-4cce-9105-49d44daf05b6');\n",
              "          const dataTable =\n",
              "            await google.colab.kernel.invokeFunction('convertToInteractive',\n",
              "                                                     [key], {});\n",
              "          if (!dataTable) return;\n",
              "\n",
              "          const docLinkHtml = 'Like what you see? Visit the ' +\n",
              "            '<a target=\"_blank\" href=https://colab.research.google.com/notebooks/data_table.ipynb>data table notebook</a>'\n",
              "            + ' to learn more about interactive tables.';\n",
              "          element.innerHTML = '';\n",
              "          dataTable['output_type'] = 'display_data';\n",
              "          await google.colab.output.renderOutput(dataTable, element);\n",
              "          const docLink = document.createElement('div');\n",
              "          docLink.innerHTML = docLinkHtml;\n",
              "          element.appendChild(docLink);\n",
              "        }\n",
              "      </script>\n",
              "    </div>\n",
              "  </div>\n",
              "  "
            ]
          },
          "metadata": {},
          "execution_count": 3
        }
      ]
    },
    {
      "cell_type": "code",
      "source": [
        "data.shape"
      ],
      "metadata": {
        "colab": {
          "base_uri": "https://localhost:8080/"
        },
        "id": "xD9FqWFk2YBw",
        "outputId": "f859c2e2-8fd8-48e1-aee0-bb078ba0a5d6"
      },
      "execution_count": 5,
      "outputs": [
        {
          "output_type": "execute_result",
          "data": {
            "text/plain": [
              "(4502, 4)"
            ]
          },
          "metadata": {},
          "execution_count": 5
        }
      ]
    },
    {
      "cell_type": "code",
      "source": [
        "data.info()"
      ],
      "metadata": {
        "colab": {
          "base_uri": "https://localhost:8080/"
        },
        "id": "yNLIkGKg2aPI",
        "outputId": "d4b90dbe-f714-43b8-a055-eec207ad9c68"
      },
      "execution_count": 6,
      "outputs": [
        {
          "output_type": "stream",
          "name": "stdout",
          "text": [
            "<class 'pandas.core.frame.DataFrame'>\n",
            "RangeIndex: 4502 entries, 0 to 4501\n",
            "Data columns (total 4 columns):\n",
            " #   Column  Non-Null Count  Dtype \n",
            "---  ------  --------------  ----- \n",
            " 0   Rating  4175 non-null   object\n",
            " 1   Date    4502 non-null   object\n",
            " 2   Title   4502 non-null   object\n",
            " 3   Review  4402 non-null   object\n",
            "dtypes: object(4)\n",
            "memory usage: 140.8+ KB\n"
          ]
        }
      ]
    },
    {
      "cell_type": "code",
      "source": [
        "data.Review"
      ],
      "metadata": {
        "colab": {
          "base_uri": "https://localhost:8080/"
        },
        "id": "N6DTFkYu2c62",
        "outputId": "2e964429-3be0-4ed7-abf1-9e7486d613e5"
      },
      "execution_count": 7,
      "outputs": [
        {
          "output_type": "execute_result",
          "data": {
            "text/plain": [
              "0       I have got to tell anyone who will listen that...\n",
              "1       If you're a fan of epic adventure movies, then...\n",
              "2       I'm sorry to say The Avengers isn't a good mov...\n",
              "3       LA Review of 'The Avengers' (No spoilers)\\r\\n\\...\n",
              "4       Marvel's The Avengers (2012) is an awesome des...\n",
              "                              ...                        \n",
              "4497                                                  NaN\n",
              "4498    \"Ice Age\" gives us a sabertooth tiger, a sloth...\n",
              "4499    Ice Age was a very entertaining movie, with br...\n",
              "4500    Ice Age, thats a good title. I was very confus...\n",
              "4501    While most 3D films (\"Toy Story\", \"Shrek\" for ...\n",
              "Name: Review, Length: 4502, dtype: object"
            ]
          },
          "metadata": {},
          "execution_count": 7
        }
      ]
    },
    {
      "cell_type": "code",
      "source": [
        "import re"
      ],
      "metadata": {
        "id": "e5eu6l_74m6s"
      },
      "execution_count": 9,
      "outputs": []
    },
    {
      "cell_type": "code",
      "source": [
        "for i in data.Review[:20]:\n",
        "  pat = re.findall(r\"Permalink\",i)\n",
        "  print(pat)\n",
        "  pat2 = re.findall(r\"\\d+ out of \\d+ found this helpful\",i)\n",
        "  print(pat2)"
      ],
      "metadata": {
        "colab": {
          "base_uri": "https://localhost:8080/"
        },
        "id": "e8YKkp_U2kvq",
        "outputId": "ac31aed1-d3df-4329-f409-85c457593fd8"
      },
      "execution_count": 12,
      "outputs": [
        {
          "output_type": "stream",
          "name": "stdout",
          "text": [
            "[]\n",
            "[]\n",
            "[]\n",
            "[]\n",
            "[]\n",
            "[]\n",
            "[]\n",
            "[]\n",
            "[]\n",
            "[]\n",
            "['Permalink']\n",
            "['72 out of 112 found this helpful']\n",
            "[]\n",
            "[]\n",
            "['Permalink']\n",
            "['377 out of 667 found this helpful']\n",
            "[]\n",
            "[]\n",
            "[]\n",
            "[]\n",
            "[]\n",
            "[]\n",
            "[]\n",
            "[]\n",
            "['Permalink']\n",
            "['302 out of 589 found this helpful']\n",
            "['Permalink']\n",
            "['9 out of 12 found this helpful']\n",
            "['Permalink']\n",
            "['314 out of 623 found this helpful']\n",
            "[]\n",
            "[]\n",
            "[]\n",
            "[]\n",
            "['Permalink']\n",
            "['271 out of 547 found this helpful']\n",
            "[]\n",
            "[]\n",
            "[]\n",
            "[]\n"
          ]
        }
      ]
    },
    {
      "cell_type": "code",
      "source": [
        "def clean_review(review):\n",
        "  try:\n",
        "    review = re.sub(r\"Permalink\",\"\",review)\n",
        "    review = re.sub(r\"\\d+ out of \\d+ found this helpful\",\"\",review)\n",
        "    return review\n",
        "  except:\n",
        "    pass"
      ],
      "metadata": {
        "id": "NUj_Wtvq4lPA"
      },
      "execution_count": 15,
      "outputs": []
    },
    {
      "cell_type": "code",
      "source": [
        "clean_review(\"hello how are you Permalink 12 out of 22 found this helpful be careful\")"
      ],
      "metadata": {
        "colab": {
          "base_uri": "https://localhost:8080/",
          "height": 36
        },
        "id": "8Cs4SZyG57cz",
        "outputId": "478b3260-e25d-42bd-855a-dec6fb372e48"
      },
      "execution_count": 16,
      "outputs": [
        {
          "output_type": "execute_result",
          "data": {
            "text/plain": [
              "'hello how are you   be careful'"
            ],
            "application/vnd.google.colaboratory.intrinsic+json": {
              "type": "string"
            }
          },
          "metadata": {},
          "execution_count": 16
        }
      ]
    },
    {
      "cell_type": "code",
      "source": [
        "clean_review(\"Hello Permalink\")"
      ],
      "metadata": {
        "colab": {
          "base_uri": "https://localhost:8080/",
          "height": 36
        },
        "id": "DhBYJBWx6EKN",
        "outputId": "b9600e95-ef73-4b68-af68-909c90a3dafb"
      },
      "execution_count": 17,
      "outputs": [
        {
          "output_type": "execute_result",
          "data": {
            "text/plain": [
              "'Hello '"
            ],
            "application/vnd.google.colaboratory.intrinsic+json": {
              "type": "string"
            }
          },
          "metadata": {},
          "execution_count": 17
        }
      ]
    },
    {
      "cell_type": "code",
      "source": [
        "clean_review(\"I am 76 out of 23 found this helpful good\")"
      ],
      "metadata": {
        "colab": {
          "base_uri": "https://localhost:8080/",
          "height": 36
        },
        "id": "z9gFDIad6XhH",
        "outputId": "a6a8194d-5476-46ee-d422-26141749cc4b"
      },
      "execution_count": 19,
      "outputs": [
        {
          "output_type": "execute_result",
          "data": {
            "text/plain": [
              "'I am  good'"
            ],
            "application/vnd.google.colaboratory.intrinsic+json": {
              "type": "string"
            }
          },
          "metadata": {},
          "execution_count": 19
        }
      ]
    },
    {
      "cell_type": "code",
      "source": [
        "data_copy = data.copy()"
      ],
      "metadata": {
        "id": "LbaOJWtF6dO8"
      },
      "execution_count": 20,
      "outputs": []
    },
    {
      "cell_type": "code",
      "source": [
        "data_copy[\"Review\"] = data_copy[\"Review\"].apply(clean_review)"
      ],
      "metadata": {
        "id": "AaWRNOoE6oH0"
      },
      "execution_count": 21,
      "outputs": []
    },
    {
      "cell_type": "code",
      "source": [
        "data_copy.head()"
      ],
      "metadata": {
        "colab": {
          "base_uri": "https://localhost:8080/",
          "height": 206
        },
        "id": "2MTvbqLq7LM3",
        "outputId": "5488213d-96e3-4263-c076-9b710ac6bd23"
      },
      "execution_count": 22,
      "outputs": [
        {
          "output_type": "execute_result",
          "data": {
            "text/plain": [
              "  Rating           Date                                              Title  \\\n",
              "0         12 April 2012  An Unstoppable Force of Awesomeness! All Hail ...   \n",
              "1         19 April 2012  They balanced everything masterfully. As Good ...   \n",
              "2   10.0  20 April 2012                  The Avengers assembled flawlessly   \n",
              "3    9.0  16 April 2012          LA Review of 'The Avengers' (No spoilers)   \n",
              "4   10.0    2 July 2017  Bad-ass descent-amazing superhero MCU action f...   \n",
              "\n",
              "                                              Review  \n",
              "0  I have got to tell anyone who will listen that...  \n",
              "1  If you're a fan of epic adventure movies, then...  \n",
              "2  I'm sorry to say The Avengers isn't a good mov...  \n",
              "3  LA Review of 'The Avengers' (No spoilers)\\r\\n\\...  \n",
              "4  Marvel's The Avengers (2012) is an awesome des...  "
            ],
            "text/html": [
              "\n",
              "  <div id=\"df-483da5c6-8592-4a25-b235-cb335edbb454\">\n",
              "    <div class=\"colab-df-container\">\n",
              "      <div>\n",
              "<style scoped>\n",
              "    .dataframe tbody tr th:only-of-type {\n",
              "        vertical-align: middle;\n",
              "    }\n",
              "\n",
              "    .dataframe tbody tr th {\n",
              "        vertical-align: top;\n",
              "    }\n",
              "\n",
              "    .dataframe thead th {\n",
              "        text-align: right;\n",
              "    }\n",
              "</style>\n",
              "<table border=\"1\" class=\"dataframe\">\n",
              "  <thead>\n",
              "    <tr style=\"text-align: right;\">\n",
              "      <th></th>\n",
              "      <th>Rating</th>\n",
              "      <th>Date</th>\n",
              "      <th>Title</th>\n",
              "      <th>Review</th>\n",
              "    </tr>\n",
              "  </thead>\n",
              "  <tbody>\n",
              "    <tr>\n",
              "      <th>0</th>\n",
              "      <td></td>\n",
              "      <td>12 April 2012</td>\n",
              "      <td>An Unstoppable Force of Awesomeness! All Hail ...</td>\n",
              "      <td>I have got to tell anyone who will listen that...</td>\n",
              "    </tr>\n",
              "    <tr>\n",
              "      <th>1</th>\n",
              "      <td></td>\n",
              "      <td>19 April 2012</td>\n",
              "      <td>They balanced everything masterfully. As Good ...</td>\n",
              "      <td>If you're a fan of epic adventure movies, then...</td>\n",
              "    </tr>\n",
              "    <tr>\n",
              "      <th>2</th>\n",
              "      <td>10.0</td>\n",
              "      <td>20 April 2012</td>\n",
              "      <td>The Avengers assembled flawlessly</td>\n",
              "      <td>I'm sorry to say The Avengers isn't a good mov...</td>\n",
              "    </tr>\n",
              "    <tr>\n",
              "      <th>3</th>\n",
              "      <td>9.0</td>\n",
              "      <td>16 April 2012</td>\n",
              "      <td>LA Review of 'The Avengers' (No spoilers)</td>\n",
              "      <td>LA Review of 'The Avengers' (No spoilers)\\r\\n\\...</td>\n",
              "    </tr>\n",
              "    <tr>\n",
              "      <th>4</th>\n",
              "      <td>10.0</td>\n",
              "      <td>2 July 2017</td>\n",
              "      <td>Bad-ass descent-amazing superhero MCU action f...</td>\n",
              "      <td>Marvel's The Avengers (2012) is an awesome des...</td>\n",
              "    </tr>\n",
              "  </tbody>\n",
              "</table>\n",
              "</div>\n",
              "      <button class=\"colab-df-convert\" onclick=\"convertToInteractive('df-483da5c6-8592-4a25-b235-cb335edbb454')\"\n",
              "              title=\"Convert this dataframe to an interactive table.\"\n",
              "              style=\"display:none;\">\n",
              "        \n",
              "  <svg xmlns=\"http://www.w3.org/2000/svg\" height=\"24px\"viewBox=\"0 0 24 24\"\n",
              "       width=\"24px\">\n",
              "    <path d=\"M0 0h24v24H0V0z\" fill=\"none\"/>\n",
              "    <path d=\"M18.56 5.44l.94 2.06.94-2.06 2.06-.94-2.06-.94-.94-2.06-.94 2.06-2.06.94zm-11 1L8.5 8.5l.94-2.06 2.06-.94-2.06-.94L8.5 2.5l-.94 2.06-2.06.94zm10 10l.94 2.06.94-2.06 2.06-.94-2.06-.94-.94-2.06-.94 2.06-2.06.94z\"/><path d=\"M17.41 7.96l-1.37-1.37c-.4-.4-.92-.59-1.43-.59-.52 0-1.04.2-1.43.59L10.3 9.45l-7.72 7.72c-.78.78-.78 2.05 0 2.83L4 21.41c.39.39.9.59 1.41.59.51 0 1.02-.2 1.41-.59l7.78-7.78 2.81-2.81c.8-.78.8-2.07 0-2.86zM5.41 20L4 18.59l7.72-7.72 1.47 1.35L5.41 20z\"/>\n",
              "  </svg>\n",
              "      </button>\n",
              "      \n",
              "  <style>\n",
              "    .colab-df-container {\n",
              "      display:flex;\n",
              "      flex-wrap:wrap;\n",
              "      gap: 12px;\n",
              "    }\n",
              "\n",
              "    .colab-df-convert {\n",
              "      background-color: #E8F0FE;\n",
              "      border: none;\n",
              "      border-radius: 50%;\n",
              "      cursor: pointer;\n",
              "      display: none;\n",
              "      fill: #1967D2;\n",
              "      height: 32px;\n",
              "      padding: 0 0 0 0;\n",
              "      width: 32px;\n",
              "    }\n",
              "\n",
              "    .colab-df-convert:hover {\n",
              "      background-color: #E2EBFA;\n",
              "      box-shadow: 0px 1px 2px rgba(60, 64, 67, 0.3), 0px 1px 3px 1px rgba(60, 64, 67, 0.15);\n",
              "      fill: #174EA6;\n",
              "    }\n",
              "\n",
              "    [theme=dark] .colab-df-convert {\n",
              "      background-color: #3B4455;\n",
              "      fill: #D2E3FC;\n",
              "    }\n",
              "\n",
              "    [theme=dark] .colab-df-convert:hover {\n",
              "      background-color: #434B5C;\n",
              "      box-shadow: 0px 1px 3px 1px rgba(0, 0, 0, 0.15);\n",
              "      filter: drop-shadow(0px 1px 2px rgba(0, 0, 0, 0.3));\n",
              "      fill: #FFFFFF;\n",
              "    }\n",
              "  </style>\n",
              "\n",
              "      <script>\n",
              "        const buttonEl =\n",
              "          document.querySelector('#df-483da5c6-8592-4a25-b235-cb335edbb454 button.colab-df-convert');\n",
              "        buttonEl.style.display =\n",
              "          google.colab.kernel.accessAllowed ? 'block' : 'none';\n",
              "\n",
              "        async function convertToInteractive(key) {\n",
              "          const element = document.querySelector('#df-483da5c6-8592-4a25-b235-cb335edbb454');\n",
              "          const dataTable =\n",
              "            await google.colab.kernel.invokeFunction('convertToInteractive',\n",
              "                                                     [key], {});\n",
              "          if (!dataTable) return;\n",
              "\n",
              "          const docLinkHtml = 'Like what you see? Visit the ' +\n",
              "            '<a target=\"_blank\" href=https://colab.research.google.com/notebooks/data_table.ipynb>data table notebook</a>'\n",
              "            + ' to learn more about interactive tables.';\n",
              "          element.innerHTML = '';\n",
              "          dataTable['output_type'] = 'display_data';\n",
              "          await google.colab.output.renderOutput(dataTable, element);\n",
              "          const docLink = document.createElement('div');\n",
              "          docLink.innerHTML = docLinkHtml;\n",
              "          element.appendChild(docLink);\n",
              "        }\n",
              "      </script>\n",
              "    </div>\n",
              "  </div>\n",
              "  "
            ]
          },
          "metadata": {},
          "execution_count": 22
        }
      ]
    },
    {
      "cell_type": "code",
      "source": [
        "data_copy.isnull().sum()"
      ],
      "metadata": {
        "colab": {
          "base_uri": "https://localhost:8080/"
        },
        "id": "fSmTrQg87MxA",
        "outputId": "21ac3468-9eee-480f-f2dd-f1de797bdee8"
      },
      "execution_count": 23,
      "outputs": [
        {
          "output_type": "execute_result",
          "data": {
            "text/plain": [
              "Rating    327\n",
              "Date        0\n",
              "Title       0\n",
              "Review    100\n",
              "dtype: int64"
            ]
          },
          "metadata": {},
          "execution_count": 23
        }
      ]
    },
    {
      "cell_type": "code",
      "source": [
        "for i in data_copy.Review:\n",
        "  try:\n",
        "    if re.findall(r\"\\d+ out of \\d+ found this helpful\",i):\n",
        "      print(i)\n",
        "    elif re.findall(r\"Permalink\",i):\n",
        "      print(i)\n",
        "    else:\n",
        "      pass\n",
        "  except:\n",
        "    pass"
      ],
      "metadata": {
        "id": "SVieM8au7Xr8"
      },
      "execution_count": 26,
      "outputs": []
    },
    {
      "cell_type": "code",
      "source": [
        "data_copy[data_copy[\"Review\"].isnull()]"
      ],
      "metadata": {
        "colab": {
          "base_uri": "https://localhost:8080/",
          "height": 424
        },
        "id": "l9_jqN7p9cNJ",
        "outputId": "9b887825-1c5c-4efa-ef50-ad1c9966f41e"
      },
      "execution_count": 28,
      "outputs": [
        {
          "output_type": "execute_result",
          "data": {
            "text/plain": [
              "     Rating              Date  \\\n",
              "3555    4.0      14 June 2018   \n",
              "3559    5.0       8 July 2018   \n",
              "3562    8.0       9 July 2018   \n",
              "3564   10.0       7 July 2018   \n",
              "3567   10.0      16 June 2018   \n",
              "...     ...               ...   \n",
              "4461   10.0      3 April 2002   \n",
              "4480   10.0     11 April 2002   \n",
              "4485   10.0  12 December 2014   \n",
              "4490   10.0   7 December 2006   \n",
              "4497   10.0      7 April 2005   \n",
              "\n",
              "                                                  Title Review  \n",
              "3555                    Ten things about Fallen Kingdom   None  \n",
              "3559                  This franchise should go extinct.   None  \n",
              "3562              Fine movie but as fan Im still hungry   None  \n",
              "3564                   Fun Movie - here is what you get   None  \n",
              "3567        One button can change the (Jurassic) World!   None  \n",
              "...                                                 ...    ...  \n",
              "4461                               Weak and Predictable   None  \n",
              "4480         All the great makings of an (ice) cool pic   None  \n",
              "4485  Touch of Jungle Book and Monsters, Inc. but su...   None  \n",
              "4490                                            Ice Age   None  \n",
              "4497                                    The cute Factor   None  \n",
              "\n",
              "[100 rows x 4 columns]"
            ],
            "text/html": [
              "\n",
              "  <div id=\"df-67209bd7-0dd4-4acb-bbfe-8605789ca34a\">\n",
              "    <div class=\"colab-df-container\">\n",
              "      <div>\n",
              "<style scoped>\n",
              "    .dataframe tbody tr th:only-of-type {\n",
              "        vertical-align: middle;\n",
              "    }\n",
              "\n",
              "    .dataframe tbody tr th {\n",
              "        vertical-align: top;\n",
              "    }\n",
              "\n",
              "    .dataframe thead th {\n",
              "        text-align: right;\n",
              "    }\n",
              "</style>\n",
              "<table border=\"1\" class=\"dataframe\">\n",
              "  <thead>\n",
              "    <tr style=\"text-align: right;\">\n",
              "      <th></th>\n",
              "      <th>Rating</th>\n",
              "      <th>Date</th>\n",
              "      <th>Title</th>\n",
              "      <th>Review</th>\n",
              "    </tr>\n",
              "  </thead>\n",
              "  <tbody>\n",
              "    <tr>\n",
              "      <th>3555</th>\n",
              "      <td>4.0</td>\n",
              "      <td>14 June 2018</td>\n",
              "      <td>Ten things about Fallen Kingdom</td>\n",
              "      <td>None</td>\n",
              "    </tr>\n",
              "    <tr>\n",
              "      <th>3559</th>\n",
              "      <td>5.0</td>\n",
              "      <td>8 July 2018</td>\n",
              "      <td>This franchise should go extinct.</td>\n",
              "      <td>None</td>\n",
              "    </tr>\n",
              "    <tr>\n",
              "      <th>3562</th>\n",
              "      <td>8.0</td>\n",
              "      <td>9 July 2018</td>\n",
              "      <td>Fine movie but as fan Im still hungry</td>\n",
              "      <td>None</td>\n",
              "    </tr>\n",
              "    <tr>\n",
              "      <th>3564</th>\n",
              "      <td>10.0</td>\n",
              "      <td>7 July 2018</td>\n",
              "      <td>Fun Movie - here is what you get</td>\n",
              "      <td>None</td>\n",
              "    </tr>\n",
              "    <tr>\n",
              "      <th>3567</th>\n",
              "      <td>10.0</td>\n",
              "      <td>16 June 2018</td>\n",
              "      <td>One button can change the (Jurassic) World!</td>\n",
              "      <td>None</td>\n",
              "    </tr>\n",
              "    <tr>\n",
              "      <th>...</th>\n",
              "      <td>...</td>\n",
              "      <td>...</td>\n",
              "      <td>...</td>\n",
              "      <td>...</td>\n",
              "    </tr>\n",
              "    <tr>\n",
              "      <th>4461</th>\n",
              "      <td>10.0</td>\n",
              "      <td>3 April 2002</td>\n",
              "      <td>Weak and Predictable</td>\n",
              "      <td>None</td>\n",
              "    </tr>\n",
              "    <tr>\n",
              "      <th>4480</th>\n",
              "      <td>10.0</td>\n",
              "      <td>11 April 2002</td>\n",
              "      <td>All the great makings of an (ice) cool pic</td>\n",
              "      <td>None</td>\n",
              "    </tr>\n",
              "    <tr>\n",
              "      <th>4485</th>\n",
              "      <td>10.0</td>\n",
              "      <td>12 December 2014</td>\n",
              "      <td>Touch of Jungle Book and Monsters, Inc. but su...</td>\n",
              "      <td>None</td>\n",
              "    </tr>\n",
              "    <tr>\n",
              "      <th>4490</th>\n",
              "      <td>10.0</td>\n",
              "      <td>7 December 2006</td>\n",
              "      <td>Ice Age</td>\n",
              "      <td>None</td>\n",
              "    </tr>\n",
              "    <tr>\n",
              "      <th>4497</th>\n",
              "      <td>10.0</td>\n",
              "      <td>7 April 2005</td>\n",
              "      <td>The cute Factor</td>\n",
              "      <td>None</td>\n",
              "    </tr>\n",
              "  </tbody>\n",
              "</table>\n",
              "<p>100 rows × 4 columns</p>\n",
              "</div>\n",
              "      <button class=\"colab-df-convert\" onclick=\"convertToInteractive('df-67209bd7-0dd4-4acb-bbfe-8605789ca34a')\"\n",
              "              title=\"Convert this dataframe to an interactive table.\"\n",
              "              style=\"display:none;\">\n",
              "        \n",
              "  <svg xmlns=\"http://www.w3.org/2000/svg\" height=\"24px\"viewBox=\"0 0 24 24\"\n",
              "       width=\"24px\">\n",
              "    <path d=\"M0 0h24v24H0V0z\" fill=\"none\"/>\n",
              "    <path d=\"M18.56 5.44l.94 2.06.94-2.06 2.06-.94-2.06-.94-.94-2.06-.94 2.06-2.06.94zm-11 1L8.5 8.5l.94-2.06 2.06-.94-2.06-.94L8.5 2.5l-.94 2.06-2.06.94zm10 10l.94 2.06.94-2.06 2.06-.94-2.06-.94-.94-2.06-.94 2.06-2.06.94z\"/><path d=\"M17.41 7.96l-1.37-1.37c-.4-.4-.92-.59-1.43-.59-.52 0-1.04.2-1.43.59L10.3 9.45l-7.72 7.72c-.78.78-.78 2.05 0 2.83L4 21.41c.39.39.9.59 1.41.59.51 0 1.02-.2 1.41-.59l7.78-7.78 2.81-2.81c.8-.78.8-2.07 0-2.86zM5.41 20L4 18.59l7.72-7.72 1.47 1.35L5.41 20z\"/>\n",
              "  </svg>\n",
              "      </button>\n",
              "      \n",
              "  <style>\n",
              "    .colab-df-container {\n",
              "      display:flex;\n",
              "      flex-wrap:wrap;\n",
              "      gap: 12px;\n",
              "    }\n",
              "\n",
              "    .colab-df-convert {\n",
              "      background-color: #E8F0FE;\n",
              "      border: none;\n",
              "      border-radius: 50%;\n",
              "      cursor: pointer;\n",
              "      display: none;\n",
              "      fill: #1967D2;\n",
              "      height: 32px;\n",
              "      padding: 0 0 0 0;\n",
              "      width: 32px;\n",
              "    }\n",
              "\n",
              "    .colab-df-convert:hover {\n",
              "      background-color: #E2EBFA;\n",
              "      box-shadow: 0px 1px 2px rgba(60, 64, 67, 0.3), 0px 1px 3px 1px rgba(60, 64, 67, 0.15);\n",
              "      fill: #174EA6;\n",
              "    }\n",
              "\n",
              "    [theme=dark] .colab-df-convert {\n",
              "      background-color: #3B4455;\n",
              "      fill: #D2E3FC;\n",
              "    }\n",
              "\n",
              "    [theme=dark] .colab-df-convert:hover {\n",
              "      background-color: #434B5C;\n",
              "      box-shadow: 0px 1px 3px 1px rgba(0, 0, 0, 0.15);\n",
              "      filter: drop-shadow(0px 1px 2px rgba(0, 0, 0, 0.3));\n",
              "      fill: #FFFFFF;\n",
              "    }\n",
              "  </style>\n",
              "\n",
              "      <script>\n",
              "        const buttonEl =\n",
              "          document.querySelector('#df-67209bd7-0dd4-4acb-bbfe-8605789ca34a button.colab-df-convert');\n",
              "        buttonEl.style.display =\n",
              "          google.colab.kernel.accessAllowed ? 'block' : 'none';\n",
              "\n",
              "        async function convertToInteractive(key) {\n",
              "          const element = document.querySelector('#df-67209bd7-0dd4-4acb-bbfe-8605789ca34a');\n",
              "          const dataTable =\n",
              "            await google.colab.kernel.invokeFunction('convertToInteractive',\n",
              "                                                     [key], {});\n",
              "          if (!dataTable) return;\n",
              "\n",
              "          const docLinkHtml = 'Like what you see? Visit the ' +\n",
              "            '<a target=\"_blank\" href=https://colab.research.google.com/notebooks/data_table.ipynb>data table notebook</a>'\n",
              "            + ' to learn more about interactive tables.';\n",
              "          element.innerHTML = '';\n",
              "          dataTable['output_type'] = 'display_data';\n",
              "          await google.colab.output.renderOutput(dataTable, element);\n",
              "          const docLink = document.createElement('div');\n",
              "          docLink.innerHTML = docLinkHtml;\n",
              "          element.appendChild(docLink);\n",
              "        }\n",
              "      </script>\n",
              "    </div>\n",
              "  </div>\n",
              "  "
            ]
          },
          "metadata": {},
          "execution_count": 28
        }
      ]
    },
    {
      "cell_type": "code",
      "source": [
        "data_copy[data_copy[\"Review\"].isnull()].value_counts()"
      ],
      "metadata": {
        "colab": {
          "base_uri": "https://localhost:8080/"
        },
        "id": "SXFbBCnT-IfC",
        "outputId": "c0ab2339-0904-4485-97a3-87c84ebfcb26"
      },
      "execution_count": 29,
      "outputs": [
        {
          "output_type": "execute_result",
          "data": {
            "text/plain": [
              "Series([], dtype: int64)"
            ]
          },
          "metadata": {},
          "execution_count": 29
        }
      ]
    },
    {
      "cell_type": "code",
      "source": [
        "data_rev=data_copy[~data_copy[\"Review\"].isnull()]\n",
        "data_rev.shape"
      ],
      "metadata": {
        "colab": {
          "base_uri": "https://localhost:8080/"
        },
        "id": "GYSIHiKM-TFF",
        "outputId": "4edd55bf-b302-49cb-b6d1-e6388b443447"
      },
      "execution_count": 31,
      "outputs": [
        {
          "output_type": "execute_result",
          "data": {
            "text/plain": [
              "(4402, 4)"
            ]
          },
          "metadata": {},
          "execution_count": 31
        }
      ]
    },
    {
      "cell_type": "code",
      "source": [
        "data_rev.Rating.value_counts()"
      ],
      "metadata": {
        "colab": {
          "base_uri": "https://localhost:8080/"
        },
        "id": "nUjZ4Kvd-tjC",
        "outputId": "3328ec52-5f22-48f1-c907-9a6ca9a14444"
      },
      "execution_count": 32,
      "outputs": [
        {
          "output_type": "execute_result",
          "data": {
            "text/plain": [
              "10.0    1143\n",
              "1.0      719\n",
              "9.0      428\n",
              "8.0      301\n",
              "7.0      288\n",
              "6.0      252\n",
              "5.0      232\n",
              "3.0      225\n",
              "2.0      218\n",
              "4.0      202\n",
              "          67\n",
              "Name: Rating, dtype: int64"
            ]
          },
          "metadata": {},
          "execution_count": 32
        }
      ]
    },
    {
      "cell_type": "code",
      "source": [
        "import numpy as np"
      ],
      "metadata": {
        "id": "zp6aJ61-_Ceu"
      },
      "execution_count": 33,
      "outputs": []
    },
    {
      "cell_type": "code",
      "source": [
        "data_rev1 = data_rev.replace(\" \",np.nan)"
      ],
      "metadata": {
        "id": "C3e56Xg__LcC"
      },
      "execution_count": 38,
      "outputs": []
    },
    {
      "cell_type": "code",
      "source": [
        "data_rev1.head()"
      ],
      "metadata": {
        "colab": {
          "base_uri": "https://localhost:8080/",
          "height": 206
        },
        "id": "0Hs3rZCA_d8Q",
        "outputId": "69a9b3d3-8246-4245-aa2d-97c9a815295f"
      },
      "execution_count": 39,
      "outputs": [
        {
          "output_type": "execute_result",
          "data": {
            "text/plain": [
              "  Rating           Date                                              Title  \\\n",
              "0    NaN  12 April 2012  An Unstoppable Force of Awesomeness! All Hail ...   \n",
              "1    NaN  19 April 2012  They balanced everything masterfully. As Good ...   \n",
              "2   10.0  20 April 2012                  The Avengers assembled flawlessly   \n",
              "3    9.0  16 April 2012          LA Review of 'The Avengers' (No spoilers)   \n",
              "4   10.0    2 July 2017  Bad-ass descent-amazing superhero MCU action f...   \n",
              "\n",
              "                                              Review  \n",
              "0  I have got to tell anyone who will listen that...  \n",
              "1  If you're a fan of epic adventure movies, then...  \n",
              "2  I'm sorry to say The Avengers isn't a good mov...  \n",
              "3  LA Review of 'The Avengers' (No spoilers)\\r\\n\\...  \n",
              "4  Marvel's The Avengers (2012) is an awesome des...  "
            ],
            "text/html": [
              "\n",
              "  <div id=\"df-e66f18b1-10f0-45c2-b873-ddb3f4b2d4af\">\n",
              "    <div class=\"colab-df-container\">\n",
              "      <div>\n",
              "<style scoped>\n",
              "    .dataframe tbody tr th:only-of-type {\n",
              "        vertical-align: middle;\n",
              "    }\n",
              "\n",
              "    .dataframe tbody tr th {\n",
              "        vertical-align: top;\n",
              "    }\n",
              "\n",
              "    .dataframe thead th {\n",
              "        text-align: right;\n",
              "    }\n",
              "</style>\n",
              "<table border=\"1\" class=\"dataframe\">\n",
              "  <thead>\n",
              "    <tr style=\"text-align: right;\">\n",
              "      <th></th>\n",
              "      <th>Rating</th>\n",
              "      <th>Date</th>\n",
              "      <th>Title</th>\n",
              "      <th>Review</th>\n",
              "    </tr>\n",
              "  </thead>\n",
              "  <tbody>\n",
              "    <tr>\n",
              "      <th>0</th>\n",
              "      <td>NaN</td>\n",
              "      <td>12 April 2012</td>\n",
              "      <td>An Unstoppable Force of Awesomeness! All Hail ...</td>\n",
              "      <td>I have got to tell anyone who will listen that...</td>\n",
              "    </tr>\n",
              "    <tr>\n",
              "      <th>1</th>\n",
              "      <td>NaN</td>\n",
              "      <td>19 April 2012</td>\n",
              "      <td>They balanced everything masterfully. As Good ...</td>\n",
              "      <td>If you're a fan of epic adventure movies, then...</td>\n",
              "    </tr>\n",
              "    <tr>\n",
              "      <th>2</th>\n",
              "      <td>10.0</td>\n",
              "      <td>20 April 2012</td>\n",
              "      <td>The Avengers assembled flawlessly</td>\n",
              "      <td>I'm sorry to say The Avengers isn't a good mov...</td>\n",
              "    </tr>\n",
              "    <tr>\n",
              "      <th>3</th>\n",
              "      <td>9.0</td>\n",
              "      <td>16 April 2012</td>\n",
              "      <td>LA Review of 'The Avengers' (No spoilers)</td>\n",
              "      <td>LA Review of 'The Avengers' (No spoilers)\\r\\n\\...</td>\n",
              "    </tr>\n",
              "    <tr>\n",
              "      <th>4</th>\n",
              "      <td>10.0</td>\n",
              "      <td>2 July 2017</td>\n",
              "      <td>Bad-ass descent-amazing superhero MCU action f...</td>\n",
              "      <td>Marvel's The Avengers (2012) is an awesome des...</td>\n",
              "    </tr>\n",
              "  </tbody>\n",
              "</table>\n",
              "</div>\n",
              "      <button class=\"colab-df-convert\" onclick=\"convertToInteractive('df-e66f18b1-10f0-45c2-b873-ddb3f4b2d4af')\"\n",
              "              title=\"Convert this dataframe to an interactive table.\"\n",
              "              style=\"display:none;\">\n",
              "        \n",
              "  <svg xmlns=\"http://www.w3.org/2000/svg\" height=\"24px\"viewBox=\"0 0 24 24\"\n",
              "       width=\"24px\">\n",
              "    <path d=\"M0 0h24v24H0V0z\" fill=\"none\"/>\n",
              "    <path d=\"M18.56 5.44l.94 2.06.94-2.06 2.06-.94-2.06-.94-.94-2.06-.94 2.06-2.06.94zm-11 1L8.5 8.5l.94-2.06 2.06-.94-2.06-.94L8.5 2.5l-.94 2.06-2.06.94zm10 10l.94 2.06.94-2.06 2.06-.94-2.06-.94-.94-2.06-.94 2.06-2.06.94z\"/><path d=\"M17.41 7.96l-1.37-1.37c-.4-.4-.92-.59-1.43-.59-.52 0-1.04.2-1.43.59L10.3 9.45l-7.72 7.72c-.78.78-.78 2.05 0 2.83L4 21.41c.39.39.9.59 1.41.59.51 0 1.02-.2 1.41-.59l7.78-7.78 2.81-2.81c.8-.78.8-2.07 0-2.86zM5.41 20L4 18.59l7.72-7.72 1.47 1.35L5.41 20z\"/>\n",
              "  </svg>\n",
              "      </button>\n",
              "      \n",
              "  <style>\n",
              "    .colab-df-container {\n",
              "      display:flex;\n",
              "      flex-wrap:wrap;\n",
              "      gap: 12px;\n",
              "    }\n",
              "\n",
              "    .colab-df-convert {\n",
              "      background-color: #E8F0FE;\n",
              "      border: none;\n",
              "      border-radius: 50%;\n",
              "      cursor: pointer;\n",
              "      display: none;\n",
              "      fill: #1967D2;\n",
              "      height: 32px;\n",
              "      padding: 0 0 0 0;\n",
              "      width: 32px;\n",
              "    }\n",
              "\n",
              "    .colab-df-convert:hover {\n",
              "      background-color: #E2EBFA;\n",
              "      box-shadow: 0px 1px 2px rgba(60, 64, 67, 0.3), 0px 1px 3px 1px rgba(60, 64, 67, 0.15);\n",
              "      fill: #174EA6;\n",
              "    }\n",
              "\n",
              "    [theme=dark] .colab-df-convert {\n",
              "      background-color: #3B4455;\n",
              "      fill: #D2E3FC;\n",
              "    }\n",
              "\n",
              "    [theme=dark] .colab-df-convert:hover {\n",
              "      background-color: #434B5C;\n",
              "      box-shadow: 0px 1px 3px 1px rgba(0, 0, 0, 0.15);\n",
              "      filter: drop-shadow(0px 1px 2px rgba(0, 0, 0, 0.3));\n",
              "      fill: #FFFFFF;\n",
              "    }\n",
              "  </style>\n",
              "\n",
              "      <script>\n",
              "        const buttonEl =\n",
              "          document.querySelector('#df-e66f18b1-10f0-45c2-b873-ddb3f4b2d4af button.colab-df-convert');\n",
              "        buttonEl.style.display =\n",
              "          google.colab.kernel.accessAllowed ? 'block' : 'none';\n",
              "\n",
              "        async function convertToInteractive(key) {\n",
              "          const element = document.querySelector('#df-e66f18b1-10f0-45c2-b873-ddb3f4b2d4af');\n",
              "          const dataTable =\n",
              "            await google.colab.kernel.invokeFunction('convertToInteractive',\n",
              "                                                     [key], {});\n",
              "          if (!dataTable) return;\n",
              "\n",
              "          const docLinkHtml = 'Like what you see? Visit the ' +\n",
              "            '<a target=\"_blank\" href=https://colab.research.google.com/notebooks/data_table.ipynb>data table notebook</a>'\n",
              "            + ' to learn more about interactive tables.';\n",
              "          element.innerHTML = '';\n",
              "          dataTable['output_type'] = 'display_data';\n",
              "          await google.colab.output.renderOutput(dataTable, element);\n",
              "          const docLink = document.createElement('div');\n",
              "          docLink.innerHTML = docLinkHtml;\n",
              "          element.appendChild(docLink);\n",
              "        }\n",
              "      </script>\n",
              "    </div>\n",
              "  </div>\n",
              "  "
            ]
          },
          "metadata": {},
          "execution_count": 39
        }
      ]
    },
    {
      "cell_type": "code",
      "source": [
        "data_rev1.info()"
      ],
      "metadata": {
        "colab": {
          "base_uri": "https://localhost:8080/"
        },
        "id": "A0UBqbgW_qq6",
        "outputId": "d7701eac-42cb-44bc-9358-4a7fa4a5a09b"
      },
      "execution_count": 41,
      "outputs": [
        {
          "output_type": "stream",
          "name": "stdout",
          "text": [
            "<class 'pandas.core.frame.DataFrame'>\n",
            "Int64Index: 4402 entries, 0 to 4501\n",
            "Data columns (total 4 columns):\n",
            " #   Column  Non-Null Count  Dtype \n",
            "---  ------  --------------  ----- \n",
            " 0   Rating  4008 non-null   object\n",
            " 1   Date    4402 non-null   object\n",
            " 2   Title   4402 non-null   object\n",
            " 3   Review  4402 non-null   object\n",
            "dtypes: object(4)\n",
            "memory usage: 172.0+ KB\n"
          ]
        }
      ]
    },
    {
      "cell_type": "code",
      "source": [
        "data_rev1[\"Rating\"] = data_rev1[\"Rating\"].apply(lambda x: float(x))"
      ],
      "metadata": {
        "id": "PYW7C2gB_4sk"
      },
      "execution_count": 42,
      "outputs": []
    },
    {
      "cell_type": "code",
      "source": [
        "data_rev1.info()"
      ],
      "metadata": {
        "colab": {
          "base_uri": "https://localhost:8080/"
        },
        "id": "tXUW3sHkALIe",
        "outputId": "ecb96f8d-816b-4da3-97ae-fd5cac177bbb"
      },
      "execution_count": 43,
      "outputs": [
        {
          "output_type": "stream",
          "name": "stdout",
          "text": [
            "<class 'pandas.core.frame.DataFrame'>\n",
            "Int64Index: 4402 entries, 0 to 4501\n",
            "Data columns (total 4 columns):\n",
            " #   Column  Non-Null Count  Dtype  \n",
            "---  ------  --------------  -----  \n",
            " 0   Rating  4008 non-null   float64\n",
            " 1   Date    4402 non-null   object \n",
            " 2   Title   4402 non-null   object \n",
            " 3   Review  4402 non-null   object \n",
            "dtypes: float64(1), object(3)\n",
            "memory usage: 172.0+ KB\n"
          ]
        }
      ]
    },
    {
      "cell_type": "code",
      "source": [
        "train_data = data_rev1[~data_rev1[\"Rating\"].isnull()]\n",
        "test_data = data_rev1[data_rev1[\"Rating\"].isnull()]"
      ],
      "metadata": {
        "id": "0T-Ie0DyAQBV"
      },
      "execution_count": 44,
      "outputs": []
    },
    {
      "cell_type": "code",
      "source": [
        "train_data.shape, test_data.shape"
      ],
      "metadata": {
        "colab": {
          "base_uri": "https://localhost:8080/"
        },
        "id": "yDipxyPZA27S",
        "outputId": "9887d5ab-774e-452c-f054-95b65f305019"
      },
      "execution_count": 45,
      "outputs": [
        {
          "output_type": "execute_result",
          "data": {
            "text/plain": [
              "((4008, 4), (394, 4))"
            ]
          },
          "metadata": {},
          "execution_count": 45
        }
      ]
    },
    {
      "cell_type": "code",
      "source": [
        "from sklearn.model_selection import train_test_split"
      ],
      "metadata": {
        "id": "XTJ2_PyGBz3W"
      },
      "execution_count": 47,
      "outputs": []
    },
    {
      "cell_type": "code",
      "source": [
        "x_train, x_val , y_train, y_val = train_test_split(train_data.iloc[:,1:],\n",
        "                                                   train_data.iloc[:,0],\n",
        "                                                   test_size = 0.4,\n",
        "                                                   random_state = 123456)\n",
        "                                                   "
      ],
      "metadata": {
        "id": "rGJ5fVIjA-dE"
      },
      "execution_count": 48,
      "outputs": []
    },
    {
      "cell_type": "code",
      "source": [
        "x_val.shape"
      ],
      "metadata": {
        "colab": {
          "base_uri": "https://localhost:8080/"
        },
        "id": "FxR6s0eIEO2W",
        "outputId": "d01791ba-debf-402c-8993-16d4ed754f7e"
      },
      "execution_count": 59,
      "outputs": [
        {
          "output_type": "execute_result",
          "data": {
            "text/plain": [
              "(1604, 3)"
            ]
          },
          "metadata": {},
          "execution_count": 59
        }
      ]
    },
    {
      "cell_type": "code",
      "source": [
        "type(x_train)"
      ],
      "metadata": {
        "colab": {
          "base_uri": "https://localhost:8080/"
        },
        "id": "F_WdQdZcDbbW",
        "outputId": "cfce03df-5ed0-48aa-d8eb-dffa63fdd6b3"
      },
      "execution_count": 52,
      "outputs": [
        {
          "output_type": "execute_result",
          "data": {
            "text/plain": [
              "pandas.core.frame.DataFrame"
            ]
          },
          "metadata": {},
          "execution_count": 52
        }
      ]
    },
    {
      "cell_type": "code",
      "source": [
        "x_train.shape"
      ],
      "metadata": {
        "colab": {
          "base_uri": "https://localhost:8080/"
        },
        "id": "pAIChsWcERiM",
        "outputId": "9cdfe1a5-5769-4805-ebc2-bf15203980e1"
      },
      "execution_count": 60,
      "outputs": [
        {
          "output_type": "execute_result",
          "data": {
            "text/plain": [
              "(2404, 3)"
            ]
          },
          "metadata": {},
          "execution_count": 60
        }
      ]
    },
    {
      "cell_type": "code",
      "source": [
        "type(y_train)"
      ],
      "metadata": {
        "colab": {
          "base_uri": "https://localhost:8080/"
        },
        "id": "m0IhMSH0DgLl",
        "outputId": "6e5b9a77-a1fd-41d0-ba1c-616b60321f71"
      },
      "execution_count": 53,
      "outputs": [
        {
          "output_type": "execute_result",
          "data": {
            "text/plain": [
              "pandas.core.series.Series"
            ]
          },
          "metadata": {},
          "execution_count": 53
        }
      ]
    },
    {
      "cell_type": "code",
      "source": [
        "from wordcloud import STOPWORDS"
      ],
      "metadata": {
        "id": "mZTt57JIBvcI"
      },
      "execution_count": 49,
      "outputs": []
    },
    {
      "cell_type": "code",
      "source": [
        "from sklearn.feature_extraction.text import TfidfVectorizer"
      ],
      "metadata": {
        "id": "W255O9xXCFWu"
      },
      "execution_count": 50,
      "outputs": []
    },
    {
      "cell_type": "code",
      "source": [
        "tfidf = TfidfVectorizer(token_pattern=\"[a-z']+\",min_df=5,max_df=0.6,stop_words=STOPWORDS)"
      ],
      "metadata": {
        "id": "itL_2W_lCTCX"
      },
      "execution_count": 51,
      "outputs": []
    },
    {
      "cell_type": "code",
      "source": [
        "tfidf_mat_train = tfidf.fit_transform(x_train[\"Review\"])\n",
        "tfidf_mat_val = tfidf.transform(x_val[\"Review\"])\n",
        "tfidf_mat_test = tfidf.transform(test_data[\"Review\"])"
      ],
      "metadata": {
        "id": "NPmwGG1BC7QN"
      },
      "execution_count": 62,
      "outputs": []
    },
    {
      "cell_type": "code",
      "source": [
        "tfidf_mat_val.shape"
      ],
      "metadata": {
        "colab": {
          "base_uri": "https://localhost:8080/"
        },
        "id": "V49NSBPZEViZ",
        "outputId": "020c5046-b145-4223-91e9-ca914d39c138"
      },
      "execution_count": 63,
      "outputs": [
        {
          "output_type": "execute_result",
          "data": {
            "text/plain": [
              "(1604, 5945)"
            ]
          },
          "metadata": {},
          "execution_count": 63
        }
      ]
    },
    {
      "cell_type": "code",
      "source": [
        "from sklearn.linear_model import LogisticRegression\n",
        "from sklearn.ensemble import GradientBoostingClassifier\n",
        "from sklearn.model_selection import train_test_split, cross_val_score\n",
        "from sklearn.metrics import cohen_kappa_score"
      ],
      "metadata": {
        "id": "KQ6XnRxRDnD-"
      },
      "execution_count": 64,
      "outputs": []
    },
    {
      "cell_type": "code",
      "source": [
        "lr = LogisticRegression()"
      ],
      "metadata": {
        "id": "EtvUhMtHDuCT"
      },
      "execution_count": 65,
      "outputs": []
    },
    {
      "cell_type": "code",
      "source": [
        "lr.fit(tfidf_mat_train,y_train)"
      ],
      "metadata": {
        "colab": {
          "base_uri": "https://localhost:8080/"
        },
        "id": "iHUHGWXbDw4Q",
        "outputId": "6176fae8-6dd4-4b7f-8cae-54b43e268376"
      },
      "execution_count": 66,
      "outputs": [
        {
          "output_type": "execute_result",
          "data": {
            "text/plain": [
              "LogisticRegression()"
            ]
          },
          "metadata": {},
          "execution_count": 66
        }
      ]
    },
    {
      "cell_type": "code",
      "source": [
        "lr_pred = lr.predict(tfidf_mat_val)"
      ],
      "metadata": {
        "id": "IJygELgED03D"
      },
      "execution_count": 67,
      "outputs": []
    },
    {
      "cell_type": "code",
      "source": [
        "cohen_kappa_score(lr_pred, y_val)"
      ],
      "metadata": {
        "colab": {
          "base_uri": "https://localhost:8080/"
        },
        "id": "sJNxr2V9D5rz",
        "outputId": "81817c46-ece1-4e80-e67d-15d3f65f67ad"
      },
      "execution_count": 68,
      "outputs": [
        {
          "output_type": "execute_result",
          "data": {
            "text/plain": [
              "0.24551651948086373"
            ]
          },
          "metadata": {},
          "execution_count": 68
        }
      ]
    },
    {
      "cell_type": "code",
      "source": [
        "lr_pred_test = lr.predict(tfidf_mat_test)"
      ],
      "metadata": {
        "id": "-2ABJSD2KwXa"
      },
      "execution_count": 98,
      "outputs": []
    },
    {
      "cell_type": "code",
      "source": [
        "lr_pred_test"
      ],
      "metadata": {
        "colab": {
          "base_uri": "https://localhost:8080/"
        },
        "id": "HikFxI17K4Wk",
        "outputId": "de18e7de-64e5-4dac-d3b9-c9df58cec2dc"
      },
      "execution_count": 99,
      "outputs": [
        {
          "output_type": "execute_result",
          "data": {
            "text/plain": [
              "array([10., 10., 10., 10., 10., 10., 10., 10.,  9., 10., 10., 10., 10.,\n",
              "       10.,  1., 10., 10., 10.,  1., 10.,  7., 10., 10., 10.,  1.,  1.,\n",
              "        1.,  1.,  1.,  1.,  1., 10.,  1., 10.,  1., 10., 10., 10., 10.,\n",
              "       10.,  1.,  1.,  1.,  4.,  1.,  1., 10.,  1.,  1., 10.,  7.,  1.,\n",
              "       10.,  1., 10., 10.,  8., 10.,  7.,  1., 10.,  8., 10., 10.,  8.,\n",
              "       10.,  7., 10., 10.,  1., 10., 10.,  8., 10., 10., 10., 10., 10.,\n",
              "       10., 10.,  9., 10., 10., 10.,  7., 10.,  9., 10., 10., 10.,  1.,\n",
              "       10., 10.,  1., 10.,  9., 10., 10.,  1.,  9.,  9., 10.,  8., 10.,\n",
              "       10., 10., 10., 10., 10.,  8.,  7., 10.,  1., 10., 10., 10.,  9.,\n",
              "       10., 10.,  9.,  9.,  1., 10., 10., 10.,  1., 10., 10., 10.,  9.,\n",
              "       10., 10., 10.,  1., 10., 10.,  1.,  1., 10., 10., 10., 10., 10.,\n",
              "       10., 10., 10.,  7., 10.,  1., 10., 10., 10.,  6.,  9.,  1., 10.,\n",
              "       10., 10., 10., 10.,  9.,  9., 10., 10.,  1.,  9., 10., 10., 10.,\n",
              "       10.,  1., 10.,  9., 10., 10., 10., 10., 10., 10.,  8., 10., 10.,\n",
              "        1., 10.,  1., 10.,  1., 10.,  9., 10., 10., 10.,  1., 10., 10.,\n",
              "       10.,  9.,  9.,  9., 10.,  1., 10.,  9., 10., 10., 10., 10.,  7.,\n",
              "       10.,  9., 10., 10., 10.,  7., 10., 10., 10., 10., 10.,  9., 10.,\n",
              "        1., 10., 10., 10.,  1., 10., 10., 10.,  1., 10.,  7., 10.,  1.,\n",
              "        9., 10., 10., 10., 10.,  1., 10., 10., 10., 10., 10.,  9., 10.,\n",
              "       10.,  7.,  9., 10.,  1., 10.,  7.,  1., 10.,  9., 10., 10., 10.,\n",
              "       10.,  1.,  7., 10., 10., 10., 10., 10., 10., 10., 10., 10., 10.,\n",
              "        9., 10., 10., 10.,  9., 10., 10., 10., 10., 10.,  1., 10.,  9.,\n",
              "        9., 10., 10.,  1., 10., 10., 10., 10.,  9.,  9., 10., 10., 10.,\n",
              "       10., 10., 10., 10., 10., 10.,  8., 10., 10., 10., 10., 10., 10.,\n",
              "       10.,  1.,  9., 10.,  1., 10., 10.,  7.,  1., 10.,  7.,  8.,  9.,\n",
              "        7.,  7., 10.,  8., 10.,  9.,  1., 10.,  7.,  7.,  9.,  9.,  1.,\n",
              "        9.,  9., 10., 10., 10.,  7.,  1., 10., 10., 10., 10., 10., 10.,\n",
              "       10., 10.,  1., 10., 10.,  1., 10., 10., 10., 10., 10., 10., 10.,\n",
              "       10., 10., 10., 10.,  1., 10., 10., 10.,  1., 10.,  1.,  1., 10.,\n",
              "        1., 10.,  1.,  1.,  1., 10.,  1.,  7.,  1.,  7.,  7.,  1., 10.,\n",
              "        1., 10.,  1.,  1.])"
            ]
          },
          "metadata": {},
          "execution_count": 99
        }
      ]
    },
    {
      "cell_type": "code",
      "source": [
        "gbm = GradientBoostingClassifier(learning_rate=0.01,n_estimators=500)"
      ],
      "metadata": {
        "id": "3JFnf3PVE1J9"
      },
      "execution_count": 69,
      "outputs": []
    },
    {
      "cell_type": "code",
      "source": [
        "gbm.fit(tfidf_mat_train,y_train)"
      ],
      "metadata": {
        "colab": {
          "base_uri": "https://localhost:8080/"
        },
        "id": "yicky20fFGEO",
        "outputId": "7d63f51d-7b4a-48ce-ecd9-6288b87153d8"
      },
      "execution_count": 70,
      "outputs": [
        {
          "output_type": "execute_result",
          "data": {
            "text/plain": [
              "GradientBoostingClassifier(learning_rate=0.01, n_estimators=500)"
            ]
          },
          "metadata": {},
          "execution_count": 70
        }
      ]
    },
    {
      "cell_type": "code",
      "source": [
        "gbm_pred = lr.predict(tfidf_mat_val)"
      ],
      "metadata": {
        "id": "bRltOn0AFJdw"
      },
      "execution_count": 72,
      "outputs": []
    },
    {
      "cell_type": "code",
      "source": [
        "cohen_kappa_score(gbm_pred, y_val)"
      ],
      "metadata": {
        "colab": {
          "base_uri": "https://localhost:8080/"
        },
        "id": "istV3vg6FMlC",
        "outputId": "de7a1ae1-1a1f-4fbe-c07d-e6ec838493aa"
      },
      "execution_count": 73,
      "outputs": [
        {
          "output_type": "execute_result",
          "data": {
            "text/plain": [
              "0.24551651948086373"
            ]
          },
          "metadata": {},
          "execution_count": 73
        }
      ]
    },
    {
      "cell_type": "code",
      "source": [
        "gbm_pred_test = gbm.predict(tfidf_mat_test)"
      ],
      "metadata": {
        "id": "lBQf093pK_U3"
      },
      "execution_count": 100,
      "outputs": []
    },
    {
      "cell_type": "code",
      "source": [
        "gbm_pred_test"
      ],
      "metadata": {
        "colab": {
          "base_uri": "https://localhost:8080/"
        },
        "id": "qJiFf4ADLHp2",
        "outputId": "99e73ffb-ac92-4ea2-9af4-781544b1327e"
      },
      "execution_count": 101,
      "outputs": [
        {
          "output_type": "execute_result",
          "data": {
            "text/plain": [
              "array([10., 10., 10., 10., 10., 10., 10., 10., 10., 10., 10., 10., 10.,\n",
              "       10.,  1., 10., 10., 10.,  9.,  3., 10., 10., 10., 10., 10.,  9.,\n",
              "        1.,  1.,  1.,  6.,  1., 10.,  1., 10.,  3., 10.,  5., 10., 10.,\n",
              "       10.,  1.,  1.,  1.,  4.,  1.,  1., 10.,  1.,  1., 10.,  1.,  4.,\n",
              "       10.,  5., 10., 10.,  7., 10., 10., 10., 10., 10., 10., 10., 10.,\n",
              "       10., 10.,  9., 10.,  8.,  9.,  9.,  8., 10.,  9., 10., 10., 10.,\n",
              "        8.,  8.,  1., 10., 10., 10.,  4.,  8., 10., 10., 10., 10.,  9.,\n",
              "       10., 10.,  7., 10., 10., 10., 10., 10.,  2., 10., 10.,  7., 10.,\n",
              "       10.,  9., 10., 10., 10.,  8.,  1.,  5., 10., 10., 10., 10., 10.,\n",
              "       10., 10., 10., 10.,  9., 10.,  8.,  8.,  1., 10., 10.,  2., 10.,\n",
              "       10.,  3., 10.,  7., 10.,  9., 10.,  5.,  6., 10., 10., 10., 10.,\n",
              "       10.,  3.,  9.,  4.,  1.,  1., 10., 10.,  8., 10., 10., 10.,  8.,\n",
              "        8., 10., 10.,  7., 10.,  9.,  7.,  1.,  1., 10., 10.,  9., 10.,\n",
              "        7.,  1., 10.,  9.,  9., 10.,  1., 10., 10., 10.,  7., 10.,  9.,\n",
              "       10., 10., 10., 10.,  1.,  9.,  6., 10., 10., 10.,  1.,  2., 10.,\n",
              "       10.,  5.,  7., 10., 10., 10.,  1.,  8.,  7., 10., 10.,  5., 10.,\n",
              "       10.,  9., 10., 10., 10., 10., 10., 10.,  1., 10., 10., 10.,  3.,\n",
              "        1.,  2., 10., 10., 10., 10., 10., 10.,  1.,  4., 10.,  7.,  8.,\n",
              "       10., 10.,  3., 10., 10.,  2., 10., 10.,  1., 10.,  7.,  1.,  9.,\n",
              "       10., 10., 10., 10., 10., 10., 10.,  1., 10.,  9.,  5., 10., 10.,\n",
              "        7.,  9.,  9., 10., 10., 10., 10., 10.,  7., 10., 10.,  9., 10.,\n",
              "       10., 10.,  7.,  8.,  9.,  9.,  9.,  3., 10., 10.,  1.,  8.,  8.,\n",
              "        7., 10.,  8., 10., 10.,  8.,  8., 10.,  9.,  9., 10., 10., 10.,\n",
              "       10., 10., 10.,  7., 10., 10., 10., 10.,  8., 10., 10., 10.,  7.,\n",
              "       10., 10.,  7., 10., 10., 10., 10.,  7., 10.,  1., 10., 10., 10.,\n",
              "        8., 10., 10., 10., 10., 10.,  1., 10., 10., 10.,  8., 10., 10.,\n",
              "        9.,  9.,  9., 10., 10.,  1., 10., 10., 10., 10., 10., 10.,  1.,\n",
              "       10., 10., 10., 10., 10., 10., 10., 10., 10., 10., 10., 10., 10.,\n",
              "       10., 10., 10., 10., 10., 10., 10., 10.,  1., 10., 10., 10.,  1.,\n",
              "       10., 10.,  6.,  4.,  2., 10.,  7., 10.,  7.,  1.,  1.,  1., 10.,\n",
              "        3., 10.,  1.,  1.])"
            ]
          },
          "metadata": {},
          "execution_count": 101
        }
      ]
    },
    {
      "cell_type": "code",
      "source": [
        "from sklearn.decomposition import TruncatedSVD"
      ],
      "metadata": {
        "id": "PEXXTxQTGHNq"
      },
      "execution_count": 74,
      "outputs": []
    },
    {
      "cell_type": "code",
      "source": [
        "svd_new = TruncatedSVD(n_components=200)"
      ],
      "metadata": {
        "id": "q6fx53QlGHQq"
      },
      "execution_count": 75,
      "outputs": []
    },
    {
      "cell_type": "code",
      "source": [
        "word_vec = svd_new.fit_transform(tfidf_mat_train.T)"
      ],
      "metadata": {
        "id": "JUY59Xu9GHTA"
      },
      "execution_count": 76,
      "outputs": []
    },
    {
      "cell_type": "code",
      "source": [
        "word_vec.shape"
      ],
      "metadata": {
        "colab": {
          "base_uri": "https://localhost:8080/"
        },
        "id": "_mRz3vRxGHVn",
        "outputId": "0ed54ba6-c86d-4623-a3ee-9c30e84e080a"
      },
      "execution_count": 77,
      "outputs": [
        {
          "output_type": "execute_result",
          "data": {
            "text/plain": [
              "(5945, 200)"
            ]
          },
          "metadata": {},
          "execution_count": 77
        }
      ]
    },
    {
      "cell_type": "code",
      "source": [
        "tfidf.vocabulary_"
      ],
      "metadata": {
        "colab": {
          "base_uri": "https://localhost:8080/"
        },
        "id": "RJRi4MJhGHYL",
        "outputId": "931ea89f-df36-4a71-b476-1a8cbc564023"
      },
      "execution_count": 78,
      "outputs": [
        {
          "output_type": "execute_result",
          "data": {
            "text/plain": [
              "{'will': 5832,\n",
              " 'win': 5836,\n",
              " 'oscar': 3700,\n",
              " 'worst': 5898,\n",
              " 'scenario': 4565,\n",
              " 'director': 1464,\n",
              " 'godfather': 2297,\n",
              " 'probably': 4038,\n",
              " 'perfect': 3819,\n",
              " 'made': 3180,\n",
              " 'strong': 5074,\n",
              " 'plot': 3915,\n",
              " 'unique': 5593,\n",
              " 'cast': 757,\n",
              " 'direction': 1461,\n",
              " 'filming': 2043,\n",
              " 'editing': 1649,\n",
              " 'beyond': 504,\n",
              " 'words': 5884,\n",
              " 'music': 3475,\n",
              " 'makes': 3196,\n",
              " 'blend': 533,\n",
              " 'great': 2343,\n",
              " 'movies': 3449,\n",
              " 'course': 1167,\n",
              " 'lack': 2957,\n",
              " 'one': 3664,\n",
              " 'two': 5537,\n",
              " 'things': 5328,\n",
              " 'mentioned': 3313,\n",
              " 'difficult': 1442,\n",
              " 'match': 3255,\n",
              " 'francis': 2163,\n",
              " 'coppola': 1126,\n",
              " 'part': 3779,\n",
              " 'ii': 2612,\n",
              " 'may': 3272,\n",
              " 'masterpiece': 3252,\n",
              " 'watch': 5768,\n",
              " 'never': 3533,\n",
              " 'bored': 581,\n",
              " 'always': 176,\n",
              " 'surprised': 5181,\n",
              " 'wonderful': 5874,\n",
              " 'see': 4624,\n",
              " 'young': 5931,\n",
              " 'al': 143,\n",
              " 'pacino': 3742,\n",
              " 'change': 798,\n",
              " 'college': 951,\n",
              " 'boy': 600,\n",
              " 'ruthless': 4502,\n",
              " 'making': 3198,\n",
              " 'even': 1798,\n",
              " 'marlon': 3234,\n",
              " 'brando': 607,\n",
              " 'title': 5401,\n",
              " 'role': 4457,\n",
              " 'albeit': 147,\n",
              " 'small': 4843,\n",
              " 'underrated': 5565,\n",
              " 'actor': 66,\n",
              " 'robert': 4446,\n",
              " 'duvall': 1617,\n",
              " 'tom': 5410,\n",
              " 'hagen': 2404,\n",
              " 'rate': 4190,\n",
              " 'balance': 415,\n",
              " 'properly': 4077,\n",
              " 'reviews': 4407,\n",
              " 'good': 2309,\n",
              " 'impossible': 2651,\n",
              " 'flies': 2094,\n",
              " 'source': 4911,\n",
              " 'matrix': 3263,\n",
              " 'inception': 2667,\n",
              " 'rip': 4431,\n",
              " 'comes': 968,\n",
              " 'years': 5925,\n",
              " 'late': 2983,\n",
              " 'chance': 795,\n",
              " 'consider': 1063,\n",
              " 'original': 3696,\n",
              " 'well': 5804,\n",
              " 'soundtrack': 4910,\n",
              " 'cinematography': 874,\n",
              " 'none': 3571,\n",
              " 'effects': 1658,\n",
              " 'pretty': 4020,\n",
              " 'jaw': 2845,\n",
              " 'dropping': 1592,\n",
              " 'complex': 1011,\n",
              " 'intelligent': 2749,\n",
              " 'nolan': 3563,\n",
              " 'academy': 27,\n",
              " 'award': 385,\n",
              " 'fair': 1940,\n",
              " 'recommend': 4249,\n",
              " 'people': 3812,\n",
              " 'hype': 2590,\n",
              " 'catch': 763,\n",
              " \"nolan's\": 3564,\n",
              " 'marketing': 3231,\n",
              " 'christopher': 863,\n",
              " 'done': 1530,\n",
              " 'work': 5885,\n",
              " 'ideas': 2600,\n",
              " 'gave': 2235,\n",
              " 'new': 3535,\n",
              " 'life': 3064,\n",
              " 'beloved': 484,\n",
              " 'superhero': 5161,\n",
              " 'batman': 441,\n",
              " 'film': 2040,\n",
              " 'dark': 1273,\n",
              " 'knight': 2940,\n",
              " 'recognized': 4248,\n",
              " 'dimensions': 1453,\n",
              " 'added': 81,\n",
              " 'classic': 893,\n",
              " 'series': 4666,\n",
              " 'comics': 971,\n",
              " 'nothing': 3592,\n",
              " 'dull': 1608,\n",
              " 'linear': 3088,\n",
              " 'surrounded': 5189,\n",
              " 'supposed': 5172,\n",
              " 'convoluted': 1115,\n",
              " 'storyline': 5049,\n",
              " 'scattered': 4564,\n",
              " 'across': 57,\n",
              " 'multiple': 3458,\n",
              " 'levels': 3055,\n",
              " 'essence': 1784,\n",
              " 'puzzle': 4136,\n",
              " 'forces': 2121,\n",
              " 'viewer': 5682,\n",
              " 'think': 5329,\n",
              " 'decipher': 1315,\n",
              " 'ending': 1714,\n",
              " 'concept': 1028,\n",
              " 'plots': 3917,\n",
              " 'worked': 5886,\n",
              " 'films': 2048,\n",
              " 'space': 4914,\n",
              " 'odyssey': 3641,\n",
              " 'run': 4493,\n",
              " 'total': 5432,\n",
              " 'recall': 4236,\n",
              " 'miserably': 3374,\n",
              " 'fails': 1937,\n",
              " 'lacks': 2961,\n",
              " 'places': 3882,\n",
              " 'characters': 812,\n",
              " 'actors': 67,\n",
              " 'many': 3223,\n",
              " 'decades': 1306,\n",
              " 'came': 703,\n",
              " 'lacked': 2958,\n",
              " 'sense': 4649,\n",
              " 'emotion': 1693,\n",
              " 'sort': 4901,\n",
              " 'sir': 4802,\n",
              " 'michael': 3334,\n",
              " 'caine': 692,\n",
              " 'performances': 3824,\n",
              " 'appalling': 252,\n",
              " 'team': 5260,\n",
              " 'dreamers': 1572,\n",
              " 'screen': 4593,\n",
              " 'dynamics': 1622,\n",
              " 'chemistry': 838,\n",
              " 'action': 61,\n",
              " 'dream': 1569,\n",
              " 'world': 5889,\n",
              " 'unimaginative': 5590,\n",
              " 'within': 5860,\n",
              " 'typical': 5541,\n",
              " 'hollywood': 2530,\n",
              " 'car': 730,\n",
              " 'cash': 755,\n",
              " 'scenes': 4569,\n",
              " 'heroes': 2494,\n",
              " 'drive': 1582,\n",
              " 'shoot': 4733,\n",
              " 'building': 661,\n",
              " 'shootouts': 4735,\n",
              " 'melodramatic': 3300,\n",
              " 'bullet': 666,\n",
              " 'character': 806,\n",
              " 'critically': 1214,\n",
              " 'must': 3477,\n",
              " 'save': 4545,\n",
              " 'still': 5031,\n",
              " 'fight': 2029,\n",
              " 'easily': 1638,\n",
              " 'hour': 2564,\n",
              " 'rolling': 4462,\n",
              " \"inception's\": 2668,\n",
              " 'obvious': 3627,\n",
              " 'mins': 3364,\n",
              " 'self': 4638,\n",
              " 'substance': 5112,\n",
              " 'draw': 1561,\n",
              " 'overly': 3728,\n",
              " 'complicated': 1014,\n",
              " 'piece': 3868,\n",
              " 'effect': 1655,\n",
              " 'trying': 5521,\n",
              " 'achieve': 50,\n",
              " 'main': 3186,\n",
              " 'story': 5048,\n",
              " 'line': 3087,\n",
              " 'excessive': 1833,\n",
              " 'whimsical': 5818,\n",
              " 'credit': 1196,\n",
              " 'notable': 3586,\n",
              " 'mention': 3312,\n",
              " 'managed': 3206,\n",
              " 'style': 5098,\n",
              " 'scene': 4567,\n",
              " 'overdone': 3722,\n",
              " 'early': 1630,\n",
              " 's': 4503,\n",
              " 'rave': 4197,\n",
              " 'make': 3193,\n",
              " 'takes': 5230,\n",
              " 'place': 3880,\n",
              " 'limitless': 3085,\n",
              " 'clich': 905,\n",
              " 'repetitive': 4341,\n",
              " 'dimensional': 1452,\n",
              " 'drawn': 1565,\n",
              " 'pretends': 4017,\n",
              " 'perhaps': 3828,\n",
              " 'true': 5515,\n",
              " 'intent': 2755,\n",
              " 'aimed': 136,\n",
              " 'strictly': 5068,\n",
              " \"today's\": 5405,\n",
              " 'generation': 2247,\n",
              " 'feel': 2008,\n",
              " 'smart': 4846,\n",
              " 'compared': 993,\n",
              " 'class': 892,\n",
              " 'presentation': 4009,\n",
              " 'student': 5087,\n",
              " 'hide': 2500,\n",
              " 'uses': 5638,\n",
              " 'logic': 3118,\n",
              " 'pass': 3788,\n",
              " 'time': 5388,\n",
              " 'knows': 2948,\n",
              " 'wasted': 5764,\n",
              " 'several': 4684,\n",
              " 'minutes': 3367,\n",
              " 'talking': 5239,\n",
              " 'subject': 5103,\n",
              " 'explained': 1876,\n",
              " 'seconds': 4617,\n",
              " 'nonetheless': 3572,\n",
              " 'used': 5633,\n",
              " 'big': 507,\n",
              " 'talked': 5238,\n",
              " 'deemed': 1319,\n",
              " 'mainstream': 3188,\n",
              " 'gives': 2276,\n",
              " 'standing': 4983,\n",
              " 'regardless': 4281,\n",
              " 'extremely': 1915,\n",
              " 'funny': 2201,\n",
              " 'although': 174,\n",
              " 'seems': 4632,\n",
              " 'stolen': 5035,\n",
              " 'manages': 3207,\n",
              " 'pull': 4109,\n",
              " 'job': 2852,\n",
              " 'believable': 477,\n",
              " 'consistently': 1070,\n",
              " 'throughout': 5363,\n",
              " 'undeniably': 5560,\n",
              " 'best': 499,\n",
              " 'scrat': 4586,\n",
              " 'whenever': 5814,\n",
              " 'help': 2484,\n",
              " 'bust': 679,\n",
              " 'laughing': 2991,\n",
              " 'bad': 409,\n",
              " 'include': 2671,\n",
              " 'mammoth': 3202,\n",
              " 'manny': 3221,\n",
              " 'ray': 4199,\n",
              " 'romano': 4464,\n",
              " 'sid': 4765,\n",
              " 'sloth': 4837,\n",
              " 'john': 2858,\n",
              " 'leguizamo': 3035,\n",
              " 'diego': 1435,\n",
              " 'saber': 4504,\n",
              " 'tooth': 5421,\n",
              " 'tiger': 5382,\n",
              " 'dennis': 1360,\n",
              " 'leary': 3018,\n",
              " 'apparently': 254,\n",
              " 'appropriate': 273,\n",
              " 'manage': 3205,\n",
              " 'laughs': 2992,\n",
              " 'pale': 3756,\n",
              " 'comparison': 995,\n",
              " 'sometimes': 4886,\n",
              " 'annoying': 221,\n",
              " 'overall': 3718,\n",
              " 'three': 5353,\n",
              " 'plenty': 3913,\n",
              " 'including': 2674,\n",
              " 'group': 2371,\n",
              " 'apocalyptic': 249,\n",
              " 'dodos': 1520,\n",
              " 'amusing': 200,\n",
              " 'trip': 5504,\n",
              " 'ice': 2595,\n",
              " 'cave': 774,\n",
              " 'final': 2049,\n",
              " \"diego's\": 1436,\n",
              " 'pack': 3744,\n",
              " 'parts': 3786,\n",
              " 'feels': 2011,\n",
              " 'something': 4884,\n",
              " 'lion': 3094,\n",
              " 'king': 2933,\n",
              " 'baby': 400,\n",
              " 'lifted': 3070,\n",
              " 'monsters': 3407,\n",
              " 'inc': 2665,\n",
              " 'furthermore': 2203,\n",
              " 'voice': 5714,\n",
              " 'talents': 5235,\n",
              " 'wish': 5855,\n",
              " 'pixar': 3879,\n",
              " 'mine': 3358,\n",
              " 'creative': 1189,\n",
              " 'depths': 1375,\n",
              " 'staff': 4973,\n",
              " 'opposed': 3682,\n",
              " 'going': 2304,\n",
              " 'large': 2974,\n",
              " 'scale': 4553,\n",
              " 'voices': 5716,\n",
              " 'excellent': 1825,\n",
              " 'animated': 213,\n",
              " 'robots': 4450,\n",
              " 'day': 1287,\n",
              " 'gangster': 2225,\n",
              " 'science': 4573,\n",
              " 'fiction': 2023,\n",
              " 'stanley': 4986,\n",
              " 'kubrick': 2951,\n",
              " 'ford': 2122,\n",
              " 're': 4201,\n",
              " 'degree': 1337,\n",
              " 'reinvented': 4287,\n",
              " 'basic': 436,\n",
              " 'pulp': 4113,\n",
              " 'entertainment': 1749,\n",
              " 'genre': 2253,\n",
              " 'using': 5639,\n",
              " 'vehicle': 5658,\n",
              " 'high': 2502,\n",
              " 'artistic': 307,\n",
              " 'ambitions': 188,\n",
              " 'post': 3964,\n",
              " 'wave': 5779,\n",
              " 'auteur': 367,\n",
              " 'focus': 2101,\n",
              " 'th': 5306,\n",
              " 'century': 783,\n",
              " 'american': 193,\n",
              " 'civilization': 882,\n",
              " \"kubrick's\": 2952,\n",
              " 'philosophical': 3852,\n",
              " 'human': 2575,\n",
              " 'evolution': 1815,\n",
              " 'shapes': 4705,\n",
              " 'corleone': 1132,\n",
              " 'mafia': 3181,\n",
              " 'family': 1954,\n",
              " 'epic': 1762,\n",
              " 'vision': 5701,\n",
              " 'business': 677,\n",
              " 'government': 2325,\n",
              " 'justice': 2894,\n",
              " 'moral': 3416,\n",
              " \"godfather's\": 2299,\n",
              " 'brilliantly': 627,\n",
              " 'constructed': 1076,\n",
              " 'opening': 3671,\n",
              " 'sequence': 4663,\n",
              " 'wedding': 5796,\n",
              " 'don': 1528,\n",
              " \"corleone's\": 1133,\n",
              " 'daughter': 1282,\n",
              " 'establishes': 1789,\n",
              " \"don's\": 1529,\n",
              " 'nature': 3507,\n",
              " 'sicilian': 4761,\n",
              " 'tradition': 5451,\n",
              " 'sons': 4893,\n",
              " 'natural': 3505,\n",
              " 'adopted': 96,\n",
              " 'relationship': 4293,\n",
              " 'legitimate': 3033,\n",
              " 'society': 4865,\n",
              " 'instance': 2735,\n",
              " \"film's\": 2041,\n",
              " 'bonasera': 568,\n",
              " 'favor': 1989,\n",
              " 'whose': 5824,\n",
              " 'first': 2067,\n",
              " 'believe': 478,\n",
              " 'america': 191,\n",
              " 'fortune': 2145,\n",
              " 'turns': 5528,\n",
              " 'contradiction': 1095,\n",
              " 'go': 2293,\n",
              " 'numerous': 3611,\n",
              " 'subsequent': 5110,\n",
              " 'lines': 3090,\n",
              " 'dialog': 1423,\n",
              " 'establish': 1787,\n",
              " 'literal': 3101,\n",
              " 'metaphorical': 3328,\n",
              " 'connections': 1052,\n",
              " 'criminal': 1207,\n",
              " 'underworld': 5575,\n",
              " 'social': 4864,\n",
              " 'memorable': 3304,\n",
              " 'ones': 3666,\n",
              " 'father': 1984,\n",
              " 'different': 1440,\n",
              " 'powerful': 3976,\n",
              " 'man': 3203,\n",
              " 'power': 3974,\n",
              " 'now': 3599,\n",
              " 'gambling': 2218,\n",
              " 'narcotics': 3494,\n",
              " 'thing': 5327,\n",
              " 'future': 2207,\n",
              " 'risk': 4437,\n",
              " 'everything': 1808,\n",
              " 'mean': 3279,\n",
              " 'ten': 5288,\n",
              " 'personal': 3835,\n",
              " 'sonny': 4891,\n",
              " 'gonna': 2308,\n",
              " 'offer': 3646,\n",
              " 'refuse': 4274,\n",
              " 'refers': 4269,\n",
              " 'youngest': 5933,\n",
              " 'son': 4889,\n",
              " 'ultimate': 5546,\n",
              " 'successor': 5127,\n",
              " \"brando's\": 608,\n",
              " 'performance': 3823,\n",
              " 'awarded': 386,\n",
              " 'balances': 417,\n",
              " 'subtly': 5118,\n",
              " 'counter': 1159,\n",
              " 'pointed': 3925,\n",
              " 'functions': 2197,\n",
              " 'patriarch': 3800,\n",
              " 'brutal': 645,\n",
              " 'crime': 1205,\n",
              " 'boss': 585,\n",
              " 'yet': 5929,\n",
              " 'significantly': 4776,\n",
              " 'affected': 112,\n",
              " 'played': 3902,\n",
              " 'brilliance': 625,\n",
              " 'unknown': 5600,\n",
              " 'protagonist': 4083,\n",
              " \"michael's\": 3335,\n",
              " 'frantic': 2166,\n",
              " 'call': 697,\n",
              " 'taking': 5231,\n",
              " 'picture': 3866,\n",
              " 'without': 5861,\n",
              " 'war': 5750,\n",
              " 'hero': 2492,\n",
              " 'uniform': 5589,\n",
              " 'meanwhile': 3286,\n",
              " 'busy': 680,\n",
              " 'girl': 2270,\n",
              " 'friend': 2178,\n",
              " 'second': 4614,\n",
              " 'wife': 5828,\n",
              " 'kay': 2905,\n",
              " 'diane': 1428,\n",
              " 'keaton': 2906,\n",
              " 'luca': 3163,\n",
              " 'brasi': 609,\n",
              " 'held': 2481,\n",
              " 'gun': 2392,\n",
              " 'band': 424,\n",
              " 'head': 2461,\n",
              " 'relates': 4290,\n",
              " 'assured': 334,\n",
              " 'either': 1674,\n",
              " 'signature': 4773,\n",
              " 'brains': 605,\n",
              " 'release': 4298,\n",
              " 'initial': 2716,\n",
              " 'activities': 64,\n",
              " 'reserved': 4365,\n",
              " 'hot': 2562,\n",
              " 'headed': 2463,\n",
              " 'james': 2837,\n",
              " 'caan': 688,\n",
              " 'events': 1801,\n",
              " 'suck': 5128,\n",
              " 'keep': 2908,\n",
              " 'sucking': 5130,\n",
              " 'right': 4424,\n",
              " 'iii': 2613,\n",
              " 'assassination': 322,\n",
              " 'attempt': 349,\n",
              " 'response': 4378,\n",
              " 'bomb': 564,\n",
              " 'meant': 3285,\n",
              " 'kills': 2929,\n",
              " 'beauty': 458,\n",
              " 'apollonia': 251,\n",
              " 'named': 3489,\n",
              " 'god': 2296,\n",
              " 'sun': 5153,\n",
              " 'light': 3071,\n",
              " 'riddled': 4419,\n",
              " 'body': 559,\n",
              " 'brother': 639,\n",
              " 'inevitably': 2700,\n",
              " 'morally': 3418,\n",
              " 'end': 1711,\n",
              " 'acts': 71,\n",
              " 'seal': 4604,\n",
              " 'doom': 1534,\n",
              " 'villainous': 5693,\n",
              " 'tragic': 5454,\n",
              " 'shot': 4743,\n",
              " 'mainly': 3187,\n",
              " 'location': 3115,\n",
              " 'various': 5655,\n",
              " 'york': 5930,\n",
              " 'city': 880,\n",
              " 'locales': 3114,\n",
              " 'spans': 4919,\n",
              " 'year': 5923,\n",
              " 'period': 3829,\n",
              " 'multitude': 3459,\n",
              " 'props': 4082,\n",
              " 'costumes': 1153,\n",
              " 'pop': 3940,\n",
              " 'culture': 1241,\n",
              " 'art': 303,\n",
              " 'production': 4050,\n",
              " 'designer': 1389,\n",
              " 'lend': 3036,\n",
              " 'rich': 4414,\n",
              " 'historical': 2517,\n",
              " 'authenticity': 369,\n",
              " 'en': 1707,\n",
              " 'moreover': 3419,\n",
              " 'lighting': 3072,\n",
              " 'brilliant': 626,\n",
              " 'cinematographer': 873,\n",
              " 'gordon': 2315,\n",
              " 'darkness': 1275,\n",
              " 'willis': 5835,\n",
              " 'contributes': 1100,\n",
              " 'greatly': 2346,\n",
              " 'realism': 4217,\n",
              " 'thematic': 5318,\n",
              " 'symbolism': 5217,\n",
              " 'compare': 992,\n",
              " 'use': 5632,\n",
              " 'color': 952,\n",
              " 'interior': 2769,\n",
              " 'especially': 1781,\n",
              " 'home': 2534,\n",
              " 'office': 3650,\n",
              " 'lit': 3100,\n",
              " 'landscape': 2970,\n",
              " 'edited': 1647,\n",
              " 'invisible': 2804,\n",
              " 'technique': 5272,\n",
              " 'needs': 3520,\n",
              " 'narrative': 3496,\n",
              " 'visual': 5707,\n",
              " 'continuity': 1091,\n",
              " 'expertly': 1873,\n",
              " 'particular': 3782,\n",
              " 'might': 3341,\n",
              " 'note': 3589,\n",
              " 'stunning': 5094,\n",
              " 'parallel': 3769,\n",
              " 'occurs': 3635,\n",
              " 'last': 2978,\n",
              " 'heads': 2465,\n",
              " 'planned': 3890,\n",
              " 'baptism': 428,\n",
              " 'sister': 4803,\n",
              " \"connie's\": 1054,\n",
              " 'child': 842,\n",
              " 'likewise': 3080,\n",
              " 'combination': 957,\n",
              " 'little': 3104,\n",
              " 'christmas': 862,\n",
              " 'lush': 3170,\n",
              " 'operatic': 3675,\n",
              " 'score': 4580,\n",
              " 'composed': 1017,\n",
              " 'greatest': 2345,\n",
              " 'nino': 3553,\n",
              " 'rota': 4475,\n",
              " 'frequent': 2175,\n",
              " 'ambitious': 189,\n",
              " 'sequel': 4661,\n",
              " 'pushed': 4129,\n",
              " 'released': 4299,\n",
              " 'grip': 2358,\n",
              " 'code': 941,\n",
              " 'criminals': 1208,\n",
              " 'found': 2151,\n",
              " 'examples': 1822,\n",
              " 'scarface': 4557,\n",
              " 'public': 4107,\n",
              " 'enemy': 1722,\n",
              " 'sexual': 4687,\n",
              " 'violent': 5696,\n",
              " 'imagery': 2620,\n",
              " 'specifically': 4931,\n",
              " 'required': 4356,\n",
              " 'portrayed': 3952,\n",
              " 'involving': 2810,\n",
              " 'resolved': 4369,\n",
              " 'explicit': 1881,\n",
              " 'lesson': 3046,\n",
              " 'pay': 3803,\n",
              " 'fortunately': 2144,\n",
              " 'popular': 3944,\n",
              " 'way': 5781,\n",
              " \"generation's\": 2248,\n",
              " 'worth': 5899,\n",
              " 'masterpieces': 3253,\n",
              " 'ranging': 4182,\n",
              " 'remake': 4317,\n",
              " 'sopranos': 4898,\n",
              " 'number': 3608,\n",
              " 'top': 5423,\n",
              " 'considered': 1066,\n",
              " 'portrayal': 3951,\n",
              " 'vito': 5711,\n",
              " 'simply': 4791,\n",
              " 'unforgettable': 5584,\n",
              " 'finest': 2057,\n",
              " 'mario': 3226,\n",
              " \"puzo's\": 4135,\n",
              " 'superb': 5158,\n",
              " 'novel': 3597,\n",
              " 'breathtaking': 619,\n",
              " 'fashion': 1977,\n",
              " 'upon': 5624,\n",
              " 'knew': 2938,\n",
              " 'special': 4926,\n",
              " 'expected': 1861,\n",
              " 'result': 4383,\n",
              " 'superior': 5163,\n",
              " 'sit': 4804,\n",
              " 'defending': 1327,\n",
              " 'colossal': 955,\n",
              " 'definitive': 1335,\n",
              " 'inside': 2726,\n",
              " 'thoughts': 5344,\n",
              " 'give': 2274,\n",
              " 'us': 5630,\n",
              " 'martin': 3237,\n",
              " \"scorsese's\": 4584,\n",
              " 'every': 1803,\n",
              " 'measured': 3288,\n",
              " \"'the\": 10,\n",
              " \"godfather'\": 2298,\n",
              " 'created': 1185,\n",
              " 'essentially': 1786,\n",
              " 'whole': 5822,\n",
              " 'follow': 2109,\n",
              " 'stereotypes': 5023,\n",
              " 'arguably': 284,\n",
              " 'acting': 60,\n",
              " 'history': 2518,\n",
              " 'amount': 198,\n",
              " 'achievements': 53,\n",
              " 'contains': 1081,\n",
              " 'spoiler': 4955,\n",
              " 'honest': 2536,\n",
              " 'seen': 4633,\n",
              " 'deserve': 1382,\n",
              " 'rank': 4183,\n",
              " 'imdb': 2630,\n",
              " 'alongside': 166,\n",
              " 'really': 4226,\n",
              " 'insulting': 2741,\n",
              " 'average': 379,\n",
              " 'unnecessarily': 5605,\n",
              " 'long': 3127,\n",
              " 'bland': 528,\n",
              " 'horrific': 2553,\n",
              " 'poorly': 3939,\n",
              " 'written': 5914,\n",
              " 'acted': 59,\n",
              " 'downright': 1545,\n",
              " 'terrible': 5296,\n",
              " 'talk': 5237,\n",
              " 'much': 3453,\n",
              " 'wasting': 5765,\n",
              " 'point': 3924,\n",
              " 'awful': 394,\n",
              " 'morgue': 3421,\n",
              " 'bring': 628,\n",
              " 'dead': 1292,\n",
              " \"man's\": 3204,\n",
              " 'penis': 3810,\n",
              " 'full': 2193,\n",
              " 'view': 5680,\n",
              " 'audience': 361,\n",
              " 'reason': 4229,\n",
              " 'given': 2275,\n",
              " 'lol': 3124,\n",
              " 'thanks': 5309,\n",
              " 'unfunny': 5587,\n",
              " 'comedy': 967,\n",
              " 'subjected': 5104,\n",
              " 'lovely': 3152,\n",
              " 'party': 3787,\n",
              " 'unseen': 5612,\n",
              " 'infamous': 2701,\n",
              " 'worse': 5897,\n",
              " 'previously': 4026,\n",
              " 'olympic': 3661,\n",
              " 'gold': 2305,\n",
              " 'medal': 3291,\n",
              " 'winning': 5844,\n",
              " 'athlete': 342,\n",
              " 'absolutely': 19,\n",
              " 'fantastic': 1963,\n",
              " 'writing': 5913,\n",
              " 'speaking': 4924,\n",
              " 'shows': 4755,\n",
              " 'called': 698,\n",
              " 'looking': 3132,\n",
              " 'another': 223,\n",
              " \"character's\": 807,\n",
              " 'boobs': 571,\n",
              " 'jump': 2885,\n",
              " 'attention': 353,\n",
              " 'omg': 3662,\n",
              " 'looked': 3131,\n",
              " \"guy's\": 2397,\n",
              " 'u': 5543,\n",
              " 'got': 2320,\n",
              " 'guess': 2386,\n",
              " 'joke': 2866,\n",
              " 'useless': 5635,\n",
              " 'dedicated': 1318,\n",
              " 'stuck': 5086,\n",
              " 'beach': 448,\n",
              " 'chair': 790,\n",
              " 'oh': 3654,\n",
              " 'left': 3028,\n",
              " 'changed': 799,\n",
              " 'except': 1828,\n",
              " 'forced': 2120,\n",
              " 'spoilers': 4956,\n",
              " 'kill': 2924,\n",
              " 'guy': 2396,\n",
              " 'live': 3105,\n",
              " 'happily': 2434,\n",
              " 'yes': 5927,\n",
              " 'damn': 1265,\n",
              " 'generic': 2250,\n",
              " 'said': 4516,\n",
              " 'getting': 2260,\n",
              " 'waste': 5763,\n",
              " 'already': 168,\n",
              " 'enough': 1739,\n",
              " 'telling': 5284,\n",
              " 'read': 4209,\n",
              " 'negative': 3522,\n",
              " 'star': 4987,\n",
              " 'rating': 4194,\n",
              " 'mr': 3451,\n",
              " 'rock': 4451,\n",
              " 'mud': 3454,\n",
              " \"audience's\": 362,\n",
              " 'watching': 5773,\n",
              " 'narcos': 3493,\n",
              " 'game': 2219,\n",
              " 'thrones': 5362,\n",
              " 'indian': 2688,\n",
              " 'web': 5794,\n",
              " 'roles': 4458,\n",
              " 'store': 5044,\n",
              " 'evolved': 1817,\n",
              " 'around': 295,\n",
              " 'keeps': 2910,\n",
              " 'hooked': 2541,\n",
              " 'episodes': 1764,\n",
              " 'execution': 1842,\n",
              " 'delightful': 1343,\n",
              " 'experience': 1867,\n",
              " 'saif': 4517,\n",
              " 'ali': 152,\n",
              " 'khan': 2916,\n",
              " 'far': 1967,\n",
              " 'career': 735,\n",
              " 'episode': 1763,\n",
              " 'etc': 1792,\n",
              " 'relate': 4288,\n",
              " 'situations': 4808,\n",
              " 'happening': 2432,\n",
              " 'outstanding': 3715,\n",
              " 'treat': 5485,\n",
              " 'fine': 2056,\n",
              " 'giving': 2277,\n",
              " 'stars': 4994,\n",
              " 'value': 5650,\n",
              " 'wondering': 5876,\n",
              " 'sentimental': 4658,\n",
              " 'd': 1257,\n",
              " 'known': 2947,\n",
              " 'laws': 2998,\n",
              " 'physics': 3860,\n",
              " 'universe': 5598,\n",
              " 'earn': 1631,\n",
              " 'status': 5008,\n",
              " 'say': 4550,\n",
              " 'necessarily': 3515,\n",
              " 'referring': 4268,\n",
              " 'worm': 5892,\n",
              " 'holes': 2528,\n",
              " 'travel': 5480,\n",
              " 'simple': 4788,\n",
              " 'driving': 1587,\n",
              " 'truck': 5514,\n",
              " 'flat': 2082,\n",
              " 'tire': 5396,\n",
              " 'corn': 1135,\n",
              " 'fields': 2026,\n",
              " 'premise': 3999,\n",
              " 'built': 665,\n",
              " 'put': 4131,\n",
              " 'alert': 150,\n",
              " 'try': 5520,\n",
              " 'spoil': 4953,\n",
              " 'fascinating': 1975,\n",
              " 'messages': 3324,\n",
              " 'standard': 4981,\n",
              " 'ok': 3656,\n",
              " 'watched': 5770,\n",
              " 'generally': 2243,\n",
              " 'agree': 126,\n",
              " 'ratings': 4195,\n",
              " 'current': 1247,\n",
              " 'saying': 4551,\n",
              " 'belong': 482,\n",
              " 'hope': 2543,\n",
              " 'pun': 4117,\n",
              " 'intended': 2751,\n",
              " 'avenger': 376,\n",
              " 'infinity': 2705,\n",
              " 'crap': 1178,\n",
              " 'totally': 5433,\n",
              " 'mcu': 3278,\n",
              " 'hyped': 2591,\n",
              " 'lame': 2965,\n",
              " 'thanos': 5310,\n",
              " 'villain': 5692,\n",
              " 'stupid': 5096,\n",
              " 'cgi': 788,\n",
              " 'holland': 2529,\n",
              " 'spiderman': 4942,\n",
              " 'please': 3909,\n",
              " 'blockbuster': 541,\n",
              " 'teen': 5277,\n",
              " 'dvd': 1618,\n",
              " 'better': 503,\n",
              " 'yeah': 5922,\n",
              " 'climax': 914,\n",
              " 'weird': 5802,\n",
              " 'love': 3150,\n",
              " 'astrophysics': 341,\n",
              " 'disliked': 1495,\n",
              " 'start': 4995,\n",
              " 'slow': 4839,\n",
              " 'hard': 2436,\n",
              " 'stay': 5009,\n",
              " 'awake': 384,\n",
              " 'half': 2410,\n",
              " 'somewhat': 4887,\n",
              " 'felt': 2015,\n",
              " 'cheap': 827,\n",
              " 'stands': 4985,\n",
              " 'maybe': 3273,\n",
              " 'audiences': 363,\n",
              " 'lost': 3143,\n",
              " 'notion': 3596,\n",
              " 'quality': 4140,\n",
              " 'ah': 129,\n",
              " 'wait': 5729,\n",
              " 'next': 3542,\n",
              " 'deeply': 1323,\n",
              " 'disappointed': 1473,\n",
              " 'interstellar': 2776,\n",
              " 'budget': 655,\n",
              " 'million': 3351,\n",
              " 'baywatch': 447,\n",
              " 'thought': 5342,\n",
              " 'surely': 5176,\n",
              " 'know': 2944,\n",
              " 'unnecessary': 5606,\n",
              " 'jokes': 2868,\n",
              " 'heard': 2467,\n",
              " 'times': 5392,\n",
              " 'looks': 3133,\n",
              " 'running': 4495,\n",
              " 'motion': 3430,\n",
              " 'horror': 2556,\n",
              " 'describe': 1378,\n",
              " 'zac': 5939,\n",
              " 'efron': 1663,\n",
              " 'hate': 2448,\n",
              " 'general': 2242,\n",
              " 'five': 2075,\n",
              " 'born': 584,\n",
              " 'least': 3019,\n",
              " 'online': 3667,\n",
              " 'criticisms': 1216,\n",
              " 'aware': 388,\n",
              " 'chris': 861,\n",
              " 'raw': 4198,\n",
              " 'talent': 5233,\n",
              " 'memento': 3303,\n",
              " 'broke': 634,\n",
              " 'onto': 3668,\n",
              " 'decade': 1305,\n",
              " 'ago': 125,\n",
              " 'provided': 4094,\n",
              " 'spectacle': 4932,\n",
              " 'rare': 4187,\n",
              " 'dumbfounded': 1612,\n",
              " 'gained': 2214,\n",
              " 'huge': 2571,\n",
              " 'popularity': 3945,\n",
              " 'franchise': 2161,\n",
              " 'modern': 3397,\n",
              " 'cinema': 870,\n",
              " 'genius': 2252,\n",
              " 'prestige': 4013,\n",
              " 'quite': 4155,\n",
              " 'prepared': 4002,\n",
              " 'script': 4601,\n",
              " 'pure': 4122,\n",
              " 'complexity': 1013,\n",
              " 'encountered': 1709,\n",
              " 'lifetime': 3068,\n",
              " 'superbly': 5159,\n",
              " 'ensemble': 1740,\n",
              " \"dicaprio's\": 1430,\n",
              " 'seeing': 4626,\n",
              " 'shutter': 4758,\n",
              " 'island': 2822,\n",
              " 'truly': 5516,\n",
              " 'currently': 1248,\n",
              " 'working': 5887,\n",
              " 'joseph': 2872,\n",
              " 'levitt': 3056,\n",
              " 'hardy': 2441,\n",
              " 'ellen': 1682,\n",
              " 'page': 3747,\n",
              " 'back': 401,\n",
              " 'sequences': 4664,\n",
              " 'play': 3900,\n",
              " 'wonderfully': 5875,\n",
              " 'along': 165,\n",
              " 'comic': 969,\n",
              " 'relief': 4306,\n",
              " 'stories': 5045,\n",
              " 'whilst': 5817,\n",
              " 'remain': 4313,\n",
              " 'rooted': 4472,\n",
              " 'emotional': 1694,\n",
              " 'stakes': 4978,\n",
              " 'immense': 2637,\n",
              " ...}"
            ]
          },
          "metadata": {},
          "execution_count": 78
        }
      ]
    },
    {
      "cell_type": "code",
      "source": [
        "tfidf.vocabulary_[\"hulk\"]"
      ],
      "metadata": {
        "colab": {
          "base_uri": "https://localhost:8080/"
        },
        "id": "oBUe7cpzGHbq",
        "outputId": "3447b149-91ac-4c5d-cd7b-7810605cf48e"
      },
      "execution_count": 80,
      "outputs": [
        {
          "output_type": "execute_result",
          "data": {
            "text/plain": [
              "2574"
            ]
          },
          "metadata": {},
          "execution_count": 80
        }
      ]
    },
    {
      "cell_type": "code",
      "source": [
        "word_vec"
      ],
      "metadata": {
        "colab": {
          "base_uri": "https://localhost:8080/"
        },
        "id": "9dr8wg2OJlw9",
        "outputId": "9687fd11-696d-4a0a-bbd0-046307a64379"
      },
      "execution_count": 90,
      "outputs": [
        {
          "output_type": "execute_result",
          "data": {
            "text/plain": [
              "array([[ 0.15341444, -0.02463582, -0.02718272, ...,  0.00109419,\n",
              "        -0.05065349, -0.02814008],\n",
              "       [ 0.00989461, -0.00480574, -0.00755533, ...,  0.00148157,\n",
              "        -0.00720812, -0.00596217],\n",
              "       [ 0.03564646,  0.00441864,  0.01405929, ..., -0.00951835,\n",
              "        -0.03433283,  0.01355871],\n",
              "       ...,\n",
              "       [ 0.11525088, -0.05926002, -0.07436446, ..., -0.00868813,\n",
              "        -0.07356336, -0.00358733],\n",
              "       [ 0.05436367, -0.03157827, -0.04066125, ..., -0.00594533,\n",
              "         0.00352116,  0.01537471],\n",
              "       [ 0.02564565, -0.01302981, -0.00806254, ...,  0.00934437,\n",
              "        -0.00089071,  0.00172797]])"
            ]
          },
          "metadata": {},
          "execution_count": 90
        }
      ]
    },
    {
      "cell_type": "code",
      "source": [
        "word_vec[2574,:].reshape(1,-1)"
      ],
      "metadata": {
        "id": "xolwBpANJQSj"
      },
      "execution_count": null,
      "outputs": []
    },
    {
      "cell_type": "code",
      "source": [
        "from sklearn.metrics import pairwise_distances"
      ],
      "metadata": {
        "id": "E9edbHXXHxzB"
      },
      "execution_count": 82,
      "outputs": []
    },
    {
      "cell_type": "code",
      "source": [
        "dist_hulk = pairwise_distances(X=word_vec,Y=word_vec[2574,:].reshape(1,-1),metric = \"cosine\")"
      ],
      "metadata": {
        "id": "CNrMIbG-H9h9"
      },
      "execution_count": 92,
      "outputs": []
    },
    {
      "cell_type": "code",
      "source": [
        "dist_hulk.flatten().argsort()"
      ],
      "metadata": {
        "colab": {
          "base_uri": "https://localhost:8080/"
        },
        "id": "yZ664i_GJJfF",
        "outputId": "ba61053a-adb8-4f1d-bed8-1c0d79d8858e"
      },
      "execution_count": 93,
      "outputs": [
        {
          "output_type": "execute_result",
          "data": {
            "text/plain": [
              "array([2574, 5337, 2812, ..., 3583, 2269, 1602])"
            ]
          },
          "metadata": {},
          "execution_count": 93
        }
      ]
    },
    {
      "cell_type": "code",
      "source": [
        "id_to_word = { v:k for k,v in tfidf.vocabulary_.items()}"
      ],
      "metadata": {
        "id": "Rr-JxHMgJ77i"
      },
      "execution_count": 94,
      "outputs": []
    },
    {
      "cell_type": "code",
      "source": [
        "id_to_word[5337]"
      ],
      "metadata": {
        "colab": {
          "base_uri": "https://localhost:8080/",
          "height": 36
        },
        "id": "SwHu_NYTJ_kJ",
        "outputId": "986ef615-3add-4514-c72b-1cc45ab7ba72"
      },
      "execution_count": 96,
      "outputs": [
        {
          "output_type": "execute_result",
          "data": {
            "text/plain": [
              "'thor'"
            ],
            "application/vnd.google.colaboratory.intrinsic+json": {
              "type": "string"
            }
          },
          "metadata": {},
          "execution_count": 96
        }
      ]
    },
    {
      "cell_type": "code",
      "source": [
        "id_to_word[2812]"
      ],
      "metadata": {
        "colab": {
          "base_uri": "https://localhost:8080/",
          "height": 36
        },
        "id": "WVs_KdfvKC41",
        "outputId": "454992a6-2e26-405c-e766-2c5ad3a5989c"
      },
      "execution_count": 97,
      "outputs": [
        {
          "output_type": "execute_result",
          "data": {
            "text/plain": [
              "'iron'"
            ],
            "application/vnd.google.colaboratory.intrinsic+json": {
              "type": "string"
            }
          },
          "metadata": {},
          "execution_count": 97
        }
      ]
    },
    {
      "cell_type": "code",
      "source": [],
      "metadata": {
        "id": "qZ-4l3T0KKPO"
      },
      "execution_count": null,
      "outputs": []
    }
  ]
}