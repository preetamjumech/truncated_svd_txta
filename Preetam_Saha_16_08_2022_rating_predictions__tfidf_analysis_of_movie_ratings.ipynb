{
 "cells": [
  {
   "cell_type": "code",
   "execution_count": 1,
   "metadata": {
    "id": "Qt5CCGjKfDh5"
   },
   "outputs": [],
   "source": [
    "import pandas as pd"
   ]
  },
  {
   "cell_type": "code",
   "execution_count": 2,
   "metadata": {
    "colab": {
     "base_uri": "https://localhost:8080/",
     "height": 206
    },
    "id": "f-sXGu8-fUnZ",
    "outputId": "00ffb201-ac5d-4c31-9c0b-6d6ceaa7117b"
   },
   "outputs": [
    {
     "data": {
      "text/html": [
       "\n",
       "  <div id=\"df-1c0a3dcd-00c2-40b1-9b9b-91af3aebde98\">\n",
       "    <div class=\"colab-df-container\">\n",
       "      <div>\n",
       "<style scoped>\n",
       "    .dataframe tbody tr th:only-of-type {\n",
       "        vertical-align: middle;\n",
       "    }\n",
       "\n",
       "    .dataframe tbody tr th {\n",
       "        vertical-align: top;\n",
       "    }\n",
       "\n",
       "    .dataframe thead th {\n",
       "        text-align: right;\n",
       "    }\n",
       "</style>\n",
       "<table border=\"1\" class=\"dataframe\">\n",
       "  <thead>\n",
       "    <tr style=\"text-align: right;\">\n",
       "      <th></th>\n",
       "      <th>Rating</th>\n",
       "      <th>Date</th>\n",
       "      <th>Title</th>\n",
       "      <th>Review</th>\n",
       "    </tr>\n",
       "  </thead>\n",
       "  <tbody>\n",
       "    <tr>\n",
       "      <th>0</th>\n",
       "      <td></td>\n",
       "      <td>12 April 2012</td>\n",
       "      <td>An Unstoppable Force of Awesomeness! All Hail ...</td>\n",
       "      <td>I have got to tell anyone who will listen that...</td>\n",
       "    </tr>\n",
       "    <tr>\n",
       "      <th>1</th>\n",
       "      <td></td>\n",
       "      <td>19 April 2012</td>\n",
       "      <td>They balanced everything masterfully. As Good ...</td>\n",
       "      <td>If you're a fan of epic adventure movies, then...</td>\n",
       "    </tr>\n",
       "    <tr>\n",
       "      <th>2</th>\n",
       "      <td>10.0</td>\n",
       "      <td>20 April 2012</td>\n",
       "      <td>The Avengers assembled flawlessly</td>\n",
       "      <td>I'm sorry to say The Avengers isn't a good mov...</td>\n",
       "    </tr>\n",
       "    <tr>\n",
       "      <th>3</th>\n",
       "      <td>9.0</td>\n",
       "      <td>16 April 2012</td>\n",
       "      <td>LA Review of 'The Avengers' (No spoilers)</td>\n",
       "      <td>LA Review of 'The Avengers' (No spoilers)\\r\\n\\...</td>\n",
       "    </tr>\n",
       "    <tr>\n",
       "      <th>4</th>\n",
       "      <td>10.0</td>\n",
       "      <td>2 July 2017</td>\n",
       "      <td>Bad-ass descent-amazing superhero MCU action f...</td>\n",
       "      <td>Marvel's The Avengers (2012) is an awesome des...</td>\n",
       "    </tr>\n",
       "  </tbody>\n",
       "</table>\n",
       "</div>\n",
       "      <button class=\"colab-df-convert\" onclick=\"convertToInteractive('df-1c0a3dcd-00c2-40b1-9b9b-91af3aebde98')\"\n",
       "              title=\"Convert this dataframe to an interactive table.\"\n",
       "              style=\"display:none;\">\n",
       "        \n",
       "  <svg xmlns=\"http://www.w3.org/2000/svg\" height=\"24px\"viewBox=\"0 0 24 24\"\n",
       "       width=\"24px\">\n",
       "    <path d=\"M0 0h24v24H0V0z\" fill=\"none\"/>\n",
       "    <path d=\"M18.56 5.44l.94 2.06.94-2.06 2.06-.94-2.06-.94-.94-2.06-.94 2.06-2.06.94zm-11 1L8.5 8.5l.94-2.06 2.06-.94-2.06-.94L8.5 2.5l-.94 2.06-2.06.94zm10 10l.94 2.06.94-2.06 2.06-.94-2.06-.94-.94-2.06-.94 2.06-2.06.94z\"/><path d=\"M17.41 7.96l-1.37-1.37c-.4-.4-.92-.59-1.43-.59-.52 0-1.04.2-1.43.59L10.3 9.45l-7.72 7.72c-.78.78-.78 2.05 0 2.83L4 21.41c.39.39.9.59 1.41.59.51 0 1.02-.2 1.41-.59l7.78-7.78 2.81-2.81c.8-.78.8-2.07 0-2.86zM5.41 20L4 18.59l7.72-7.72 1.47 1.35L5.41 20z\"/>\n",
       "  </svg>\n",
       "      </button>\n",
       "      \n",
       "  <style>\n",
       "    .colab-df-container {\n",
       "      display:flex;\n",
       "      flex-wrap:wrap;\n",
       "      gap: 12px;\n",
       "    }\n",
       "\n",
       "    .colab-df-convert {\n",
       "      background-color: #E8F0FE;\n",
       "      border: none;\n",
       "      border-radius: 50%;\n",
       "      cursor: pointer;\n",
       "      display: none;\n",
       "      fill: #1967D2;\n",
       "      height: 32px;\n",
       "      padding: 0 0 0 0;\n",
       "      width: 32px;\n",
       "    }\n",
       "\n",
       "    .colab-df-convert:hover {\n",
       "      background-color: #E2EBFA;\n",
       "      box-shadow: 0px 1px 2px rgba(60, 64, 67, 0.3), 0px 1px 3px 1px rgba(60, 64, 67, 0.15);\n",
       "      fill: #174EA6;\n",
       "    }\n",
       "\n",
       "    [theme=dark] .colab-df-convert {\n",
       "      background-color: #3B4455;\n",
       "      fill: #D2E3FC;\n",
       "    }\n",
       "\n",
       "    [theme=dark] .colab-df-convert:hover {\n",
       "      background-color: #434B5C;\n",
       "      box-shadow: 0px 1px 3px 1px rgba(0, 0, 0, 0.15);\n",
       "      filter: drop-shadow(0px 1px 2px rgba(0, 0, 0, 0.3));\n",
       "      fill: #FFFFFF;\n",
       "    }\n",
       "  </style>\n",
       "\n",
       "      <script>\n",
       "        const buttonEl =\n",
       "          document.querySelector('#df-1c0a3dcd-00c2-40b1-9b9b-91af3aebde98 button.colab-df-convert');\n",
       "        buttonEl.style.display =\n",
       "          google.colab.kernel.accessAllowed ? 'block' : 'none';\n",
       "\n",
       "        async function convertToInteractive(key) {\n",
       "          const element = document.querySelector('#df-1c0a3dcd-00c2-40b1-9b9b-91af3aebde98');\n",
       "          const dataTable =\n",
       "            await google.colab.kernel.invokeFunction('convertToInteractive',\n",
       "                                                     [key], {});\n",
       "          if (!dataTable) return;\n",
       "\n",
       "          const docLinkHtml = 'Like what you see? Visit the ' +\n",
       "            '<a target=\"_blank\" href=https://colab.research.google.com/notebooks/data_table.ipynb>data table notebook</a>'\n",
       "            + ' to learn more about interactive tables.';\n",
       "          element.innerHTML = '';\n",
       "          dataTable['output_type'] = 'display_data';\n",
       "          await google.colab.output.renderOutput(dataTable, element);\n",
       "          const docLink = document.createElement('div');\n",
       "          docLink.innerHTML = docLinkHtml;\n",
       "          element.appendChild(docLink);\n",
       "        }\n",
       "      </script>\n",
       "    </div>\n",
       "  </div>\n",
       "  "
      ],
      "text/plain": [
       "  Rating           Date                                              Title  \\\n",
       "0         12 April 2012  An Unstoppable Force of Awesomeness! All Hail ...   \n",
       "1         19 April 2012  They balanced everything masterfully. As Good ...   \n",
       "2   10.0  20 April 2012                  The Avengers assembled flawlessly   \n",
       "3    9.0  16 April 2012          LA Review of 'The Avengers' (No spoilers)   \n",
       "4   10.0    2 July 2017  Bad-ass descent-amazing superhero MCU action f...   \n",
       "\n",
       "                                              Review  \n",
       "0  I have got to tell anyone who will listen that...  \n",
       "1  If you're a fan of epic adventure movies, then...  \n",
       "2  I'm sorry to say The Avengers isn't a good mov...  \n",
       "3  LA Review of 'The Avengers' (No spoilers)\\r\\n\\...  \n",
       "4  Marvel's The Avengers (2012) is an awesome des...  "
      ]
     },
     "execution_count": 2,
     "metadata": {},
     "output_type": "execute_result"
    }
   ],
   "source": [
    "data = pd.read_csv(\"Movie_Compiled.csv\")\n",
    "data.head()\n"
   ]
  },
  {
   "cell_type": "code",
   "execution_count": 3,
   "metadata": {
    "colab": {
     "base_uri": "https://localhost:8080/"
    },
    "id": "jFeo_foPf_H7",
    "outputId": "ab4ae073-abcc-4e5f-c9bf-15d82d195524"
   },
   "outputs": [
    {
     "data": {
      "text/plain": [
       "(4502, 4)"
      ]
     },
     "execution_count": 3,
     "metadata": {},
     "output_type": "execute_result"
    }
   ],
   "source": [
    "data.shape"
   ]
  },
  {
   "cell_type": "code",
   "execution_count": 4,
   "metadata": {
    "id": "Vocgb6w3gAaD"
   },
   "outputs": [],
   "source": [
    "from sklearn.decomposition import TruncatedSVD # it will not get the full matrix of left and right singular matrix\n",
    "from sklearn.feature_extraction.text import TfidfVectorizer\n",
    "from sklearn.linear_model import LogisticRegression\n",
    "from sklearn.ensemble import GradientBoostingClassifier\n",
    "from sklearn.model_selection import train_test_split, cross_val_score\n",
    "from sklearn.metrics import cohen_kappa_score"
   ]
  },
  {
   "cell_type": "code",
   "execution_count": 6,
   "metadata": {
    "colab": {
     "base_uri": "https://localhost:8080/"
    },
    "id": "Aq84OYhIiACj",
    "outputId": "7f512c48-de23-4906-8dae-bb3895e4d1c4"
   },
   "outputs": [
    {
     "data": {
      "text/plain": [
       "(4402, 4)"
      ]
     },
     "execution_count": 6,
     "metadata": {},
     "output_type": "execute_result"
    }
   ],
   "source": [
    "data_1 = data[~data[\"Review\"].isnull()]\n",
    "data_1.shape"
   ]
  },
  {
   "cell_type": "code",
   "execution_count": 8,
   "metadata": {
    "colab": {
     "base_uri": "https://localhost:8080/"
    },
    "id": "L5o3C8XliAFQ",
    "outputId": "44a5d72a-aeb8-4b47-c53b-c701d7fc36b0"
   },
   "outputs": [
    {
     "name": "stdout",
     "output_type": "stream",
     "text": [
      "<class 'pandas.core.frame.DataFrame'>\n",
      "Int64Index: 4402 entries, 0 to 4501\n",
      "Data columns (total 4 columns):\n",
      " #   Column  Non-Null Count  Dtype \n",
      "---  ------  --------------  ----- \n",
      " 0   Rating  4075 non-null   object\n",
      " 1   Date    4402 non-null   object\n",
      " 2   Title   4402 non-null   object\n",
      " 3   Review  4402 non-null   object\n",
      "dtypes: object(4)\n",
      "memory usage: 172.0+ KB\n"
     ]
    }
   ],
   "source": [
    "data_1.info()"
   ]
  },
  {
   "cell_type": "code",
   "execution_count": 10,
   "metadata": {
    "colab": {
     "base_uri": "https://localhost:8080/"
    },
    "id": "AdBTFaMViAIM",
    "outputId": "a1799370-70cb-4010-d715-7064b82ec496"
   },
   "outputs": [
    {
     "data": {
      "text/plain": [
       "10.0    1143\n",
       "1.0      719\n",
       "9.0      428\n",
       "8.0      301\n",
       "7.0      288\n",
       "6.0      252\n",
       "5.0      232\n",
       "3.0      225\n",
       "2.0      218\n",
       "4.0      202\n",
       "          67\n",
       "Name: Rating, dtype: int64"
      ]
     },
     "execution_count": 10,
     "metadata": {},
     "output_type": "execute_result"
    }
   ],
   "source": [
    "data_1.Rating.value_counts()"
   ]
  },
  {
   "cell_type": "code",
   "execution_count": 14,
   "metadata": {
    "colab": {
     "base_uri": "https://localhost:8080/",
     "height": 206
    },
    "id": "0YWZCyNxiALp",
    "outputId": "3a4cab1b-f5df-437b-a8cb-7808b171943b"
   },
   "outputs": [
    {
     "data": {
      "text/html": [
       "\n",
       "  <div id=\"df-cdff34a9-7dc6-4d5f-a9bd-e012ca4f9f98\">\n",
       "    <div class=\"colab-df-container\">\n",
       "      <div>\n",
       "<style scoped>\n",
       "    .dataframe tbody tr th:only-of-type {\n",
       "        vertical-align: middle;\n",
       "    }\n",
       "\n",
       "    .dataframe tbody tr th {\n",
       "        vertical-align: top;\n",
       "    }\n",
       "\n",
       "    .dataframe thead th {\n",
       "        text-align: right;\n",
       "    }\n",
       "</style>\n",
       "<table border=\"1\" class=\"dataframe\">\n",
       "  <thead>\n",
       "    <tr style=\"text-align: right;\">\n",
       "      <th></th>\n",
       "      <th>Rating</th>\n",
       "      <th>Date</th>\n",
       "      <th>Title</th>\n",
       "      <th>Review</th>\n",
       "    </tr>\n",
       "  </thead>\n",
       "  <tbody>\n",
       "    <tr>\n",
       "      <th>0</th>\n",
       "      <td>NaN</td>\n",
       "      <td>12 April 2012</td>\n",
       "      <td>An Unstoppable Force of Awesomeness! All Hail ...</td>\n",
       "      <td>I have got to tell anyone who will listen that...</td>\n",
       "    </tr>\n",
       "    <tr>\n",
       "      <th>1</th>\n",
       "      <td>NaN</td>\n",
       "      <td>19 April 2012</td>\n",
       "      <td>They balanced everything masterfully. As Good ...</td>\n",
       "      <td>If you're a fan of epic adventure movies, then...</td>\n",
       "    </tr>\n",
       "    <tr>\n",
       "      <th>2</th>\n",
       "      <td>10.0</td>\n",
       "      <td>20 April 2012</td>\n",
       "      <td>The Avengers assembled flawlessly</td>\n",
       "      <td>I'm sorry to say The Avengers isn't a good mov...</td>\n",
       "    </tr>\n",
       "    <tr>\n",
       "      <th>3</th>\n",
       "      <td>9.0</td>\n",
       "      <td>16 April 2012</td>\n",
       "      <td>LA Review of 'The Avengers' (No spoilers)</td>\n",
       "      <td>LA Review of 'The Avengers' (No spoilers)\\r\\n\\...</td>\n",
       "    </tr>\n",
       "    <tr>\n",
       "      <th>4</th>\n",
       "      <td>10.0</td>\n",
       "      <td>2 July 2017</td>\n",
       "      <td>Bad-ass descent-amazing superhero MCU action f...</td>\n",
       "      <td>Marvel's The Avengers (2012) is an awesome des...</td>\n",
       "    </tr>\n",
       "  </tbody>\n",
       "</table>\n",
       "</div>\n",
       "      <button class=\"colab-df-convert\" onclick=\"convertToInteractive('df-cdff34a9-7dc6-4d5f-a9bd-e012ca4f9f98')\"\n",
       "              title=\"Convert this dataframe to an interactive table.\"\n",
       "              style=\"display:none;\">\n",
       "        \n",
       "  <svg xmlns=\"http://www.w3.org/2000/svg\" height=\"24px\"viewBox=\"0 0 24 24\"\n",
       "       width=\"24px\">\n",
       "    <path d=\"M0 0h24v24H0V0z\" fill=\"none\"/>\n",
       "    <path d=\"M18.56 5.44l.94 2.06.94-2.06 2.06-.94-2.06-.94-.94-2.06-.94 2.06-2.06.94zm-11 1L8.5 8.5l.94-2.06 2.06-.94-2.06-.94L8.5 2.5l-.94 2.06-2.06.94zm10 10l.94 2.06.94-2.06 2.06-.94-2.06-.94-.94-2.06-.94 2.06-2.06.94z\"/><path d=\"M17.41 7.96l-1.37-1.37c-.4-.4-.92-.59-1.43-.59-.52 0-1.04.2-1.43.59L10.3 9.45l-7.72 7.72c-.78.78-.78 2.05 0 2.83L4 21.41c.39.39.9.59 1.41.59.51 0 1.02-.2 1.41-.59l7.78-7.78 2.81-2.81c.8-.78.8-2.07 0-2.86zM5.41 20L4 18.59l7.72-7.72 1.47 1.35L5.41 20z\"/>\n",
       "  </svg>\n",
       "      </button>\n",
       "      \n",
       "  <style>\n",
       "    .colab-df-container {\n",
       "      display:flex;\n",
       "      flex-wrap:wrap;\n",
       "      gap: 12px;\n",
       "    }\n",
       "\n",
       "    .colab-df-convert {\n",
       "      background-color: #E8F0FE;\n",
       "      border: none;\n",
       "      border-radius: 50%;\n",
       "      cursor: pointer;\n",
       "      display: none;\n",
       "      fill: #1967D2;\n",
       "      height: 32px;\n",
       "      padding: 0 0 0 0;\n",
       "      width: 32px;\n",
       "    }\n",
       "\n",
       "    .colab-df-convert:hover {\n",
       "      background-color: #E2EBFA;\n",
       "      box-shadow: 0px 1px 2px rgba(60, 64, 67, 0.3), 0px 1px 3px 1px rgba(60, 64, 67, 0.15);\n",
       "      fill: #174EA6;\n",
       "    }\n",
       "\n",
       "    [theme=dark] .colab-df-convert {\n",
       "      background-color: #3B4455;\n",
       "      fill: #D2E3FC;\n",
       "    }\n",
       "\n",
       "    [theme=dark] .colab-df-convert:hover {\n",
       "      background-color: #434B5C;\n",
       "      box-shadow: 0px 1px 3px 1px rgba(0, 0, 0, 0.15);\n",
       "      filter: drop-shadow(0px 1px 2px rgba(0, 0, 0, 0.3));\n",
       "      fill: #FFFFFF;\n",
       "    }\n",
       "  </style>\n",
       "\n",
       "      <script>\n",
       "        const buttonEl =\n",
       "          document.querySelector('#df-cdff34a9-7dc6-4d5f-a9bd-e012ca4f9f98 button.colab-df-convert');\n",
       "        buttonEl.style.display =\n",
       "          google.colab.kernel.accessAllowed ? 'block' : 'none';\n",
       "\n",
       "        async function convertToInteractive(key) {\n",
       "          const element = document.querySelector('#df-cdff34a9-7dc6-4d5f-a9bd-e012ca4f9f98');\n",
       "          const dataTable =\n",
       "            await google.colab.kernel.invokeFunction('convertToInteractive',\n",
       "                                                     [key], {});\n",
       "          if (!dataTable) return;\n",
       "\n",
       "          const docLinkHtml = 'Like what you see? Visit the ' +\n",
       "            '<a target=\"_blank\" href=https://colab.research.google.com/notebooks/data_table.ipynb>data table notebook</a>'\n",
       "            + ' to learn more about interactive tables.';\n",
       "          element.innerHTML = '';\n",
       "          dataTable['output_type'] = 'display_data';\n",
       "          await google.colab.output.renderOutput(dataTable, element);\n",
       "          const docLink = document.createElement('div');\n",
       "          docLink.innerHTML = docLinkHtml;\n",
       "          element.appendChild(docLink);\n",
       "        }\n",
       "      </script>\n",
       "    </div>\n",
       "  </div>\n",
       "  "
      ],
      "text/plain": [
       "  Rating           Date                                              Title  \\\n",
       "0    NaN  12 April 2012  An Unstoppable Force of Awesomeness! All Hail ...   \n",
       "1    NaN  19 April 2012  They balanced everything masterfully. As Good ...   \n",
       "2   10.0  20 April 2012                  The Avengers assembled flawlessly   \n",
       "3    9.0  16 April 2012          LA Review of 'The Avengers' (No spoilers)   \n",
       "4   10.0    2 July 2017  Bad-ass descent-amazing superhero MCU action f...   \n",
       "\n",
       "                                              Review  \n",
       "0  I have got to tell anyone who will listen that...  \n",
       "1  If you're a fan of epic adventure movies, then...  \n",
       "2  I'm sorry to say The Avengers isn't a good mov...  \n",
       "3  LA Review of 'The Avengers' (No spoilers)\\r\\n\\...  \n",
       "4  Marvel's The Avengers (2012) is an awesome des...  "
      ]
     },
     "execution_count": 14,
     "metadata": {},
     "output_type": "execute_result"
    }
   ],
   "source": [
    "import numpy as np\n",
    "data_2 = data_1.replace(\" \",np.nan)\n",
    "data_2.head()"
   ]
  },
  {
   "cell_type": "code",
   "execution_count": 15,
   "metadata": {
    "colab": {
     "base_uri": "https://localhost:8080/"
    },
    "id": "fvtPlm9IjQCZ",
    "outputId": "c6aecdcd-ab24-45ab-edf8-98bcf3414dbf"
   },
   "outputs": [
    {
     "name": "stdout",
     "output_type": "stream",
     "text": [
      "<class 'pandas.core.frame.DataFrame'>\n",
      "Int64Index: 4402 entries, 0 to 4501\n",
      "Data columns (total 4 columns):\n",
      " #   Column  Non-Null Count  Dtype  \n",
      "---  ------  --------------  -----  \n",
      " 0   Rating  4008 non-null   float64\n",
      " 1   Date    4402 non-null   object \n",
      " 2   Title   4402 non-null   object \n",
      " 3   Review  4402 non-null   object \n",
      "dtypes: float64(1), object(3)\n",
      "memory usage: 172.0+ KB\n"
     ]
    }
   ],
   "source": [
    "data_2[\"Rating\"] = data_2[\"Rating\"].astype(float)\n",
    "data_2.info()"
   ]
  },
  {
   "cell_type": "code",
   "execution_count": 16,
   "metadata": {
    "id": "573vBts9jyN1"
   },
   "outputs": [],
   "source": [
    "train_data = data_2[~data_2[\"Rating\"].isnull()]\n",
    "test_data = data_2[data_2[\"Rating\"].isnull()]"
   ]
  },
  {
   "cell_type": "code",
   "execution_count": 17,
   "metadata": {
    "colab": {
     "base_uri": "https://localhost:8080/"
    },
    "id": "XnjGy53JklQN",
    "outputId": "6971ed8f-bc01-4f7d-f9a0-977c474cc3c1"
   },
   "outputs": [
    {
     "data": {
      "text/plain": [
       "((4008, 4), (394, 4))"
      ]
     },
     "execution_count": 17,
     "metadata": {},
     "output_type": "execute_result"
    }
   ],
   "source": [
    "(train_data.shape, test_data.shape)"
   ]
  },
  {
   "cell_type": "code",
   "execution_count": 19,
   "metadata": {
    "id": "0sx8Dz0aklTp"
   },
   "outputs": [],
   "source": [
    "x_train, x_val , y_train, y_val = train_test_split(train_data.iloc[:,1:],\n",
    "                                                   train_data.iloc[:,0],\n",
    "                                                   test_size = 0.4,\n",
    "                                                   random_state = 123456)\n",
    "                                                   "
   ]
  },
  {
   "cell_type": "code",
   "execution_count": 20,
   "metadata": {
    "colab": {
     "base_uri": "https://localhost:8080/"
    },
    "id": "q3PSemjdltVN",
    "outputId": "0c5fbf5f-ad1a-4268-cfe1-d61188cac63d"
   },
   "outputs": [
    {
     "data": {
      "text/plain": [
       "(2404, 3)"
      ]
     },
     "execution_count": 20,
     "metadata": {},
     "output_type": "execute_result"
    }
   ],
   "source": [
    "x_train.shape"
   ]
  },
  {
   "cell_type": "code",
   "execution_count": 21,
   "metadata": {
    "id": "x-2X_wfqmFVx"
   },
   "outputs": [],
   "source": [
    "from wordcloud import STOPWORDS"
   ]
  },
  {
   "cell_type": "code",
   "execution_count": 22,
   "metadata": {
    "id": "Xg9JQmbElwPf"
   },
   "outputs": [],
   "source": [
    "tfidf = TfidfVectorizer(stop_words=STOPWORDS, \n",
    "                        token_pattern=\"[a-z']+\",\n",
    "                        max_df=0.55,\n",
    "                        min_df=10)"
   ]
  },
  {
   "cell_type": "code",
   "execution_count": 23,
   "metadata": {
    "id": "pqanXQ2Fm7iO"
   },
   "outputs": [],
   "source": [
    "tfidf_mat_train = tfidf.fit_transform(x_train[\"Review\"])\n",
    "tfidf_mat_val = tfidf.transform(x_val[\"Review\"])\n",
    "tfidf_mat_test = tfidf.transform(test_data[\"Review\"])"
   ]
  },
  {
   "cell_type": "code",
   "execution_count": 24,
   "metadata": {
    "colab": {
     "base_uri": "https://localhost:8080/"
    },
    "id": "dCMzrNDim7o_",
    "outputId": "ebeae52e-d12b-4f84-c5af-c93a95396d16"
   },
   "outputs": [
    {
     "data": {
      "text/plain": [
       "(2404, 3657)"
      ]
     },
     "execution_count": 24,
     "metadata": {},
     "output_type": "execute_result"
    }
   ],
   "source": [
    "tfidf_mat_train.shape #no of columns are more than no of rows"
   ]
  },
  {
   "cell_type": "code",
   "execution_count": 27,
   "metadata": {
    "colab": {
     "base_uri": "https://localhost:8080/"
    },
    "id": "1WiaFzPIm7r-",
    "outputId": "e9494184-b58f-4896-b537-a811327aefbc"
   },
   "outputs": [
    {
     "data": {
      "text/plain": [
       "LogisticRegression()"
      ]
     },
     "execution_count": 27,
     "metadata": {},
     "output_type": "execute_result"
    }
   ],
   "source": [
    "lr_model_1 = LogisticRegression() #assumption in high dimension, classes are linearly separable\n",
    "lr_model_1.fit(X=tfidf_mat_train,y=y_train)"
   ]
  },
  {
   "cell_type": "code",
   "execution_count": 28,
   "metadata": {
    "colab": {
     "base_uri": "https://localhost:8080/"
    },
    "id": "go03a4TAm7vi",
    "outputId": "3484bffd-7ffa-43a7-ba79-9a9ad1e41a11"
   },
   "outputs": [
    {
     "data": {
      "text/plain": [
       "0.2431569431210462"
      ]
     },
     "execution_count": 28,
     "metadata": {},
     "output_type": "execute_result"
    }
   ],
   "source": [
    "pred_val_lr = lr_model_1.predict(tfidf_mat_val)\n",
    "cohen_kappa_score(pred_val_lr,y_val) #because of sparsity, in higher dim it couldnot do the justice"
   ]
  },
  {
   "cell_type": "code",
   "execution_count": 34,
   "metadata": {
    "id": "P_y6sF2toiuZ"
   },
   "outputs": [],
   "source": [
    "N=150\n",
    "svd = TruncatedSVD(n_components=N) #150 is less than 3657\n",
    "svd_mat_train = svd.fit_transform(tfidf_mat_train)\n",
    "svd_mat_val = svd.transform(tfidf_mat_val)\n",
    "svd_mat_test = svd.transform(tfidf_mat_test)"
   ]
  },
  {
   "cell_type": "code",
   "execution_count": 35,
   "metadata": {
    "colab": {
     "base_uri": "https://localhost:8080/"
    },
    "id": "of45deM-p6SG",
    "outputId": "926f50f6-c349-40c1-ca5b-c26473ab7904"
   },
   "outputs": [
    {
     "data": {
      "text/plain": [
       "0.2482873644019904"
      ]
     },
     "execution_count": 35,
     "metadata": {},
     "output_type": "execute_result"
    }
   ],
   "source": [
    "lr_model_2 = LogisticRegression()\n",
    "lr_model_2.fit(X=svd_mat_train,y = y_train)\n",
    "pred_val_lr2 = lr_model_2.predict(svd_mat_val)\n",
    "cohen_kappa_score(pred_val_lr2,y_val)"
   ]
  },
  {
   "cell_type": "code",
   "execution_count": 32,
   "metadata": {
    "id": "VrjqJdoVp6Yd"
   },
   "outputs": [],
   "source": [
    "gbm = GradientBoostingClassifier(learning_rate=0.01,n_estimators=2000,max_depth =1)"
   ]
  },
  {
   "cell_type": "code",
   "execution_count": 36,
   "metadata": {
    "colab": {
     "base_uri": "https://localhost:8080/"
    },
    "id": "d009pGQSqmGY",
    "outputId": "b9498633-a95d-40b8-f77d-2e8a16b0efa8"
   },
   "outputs": [
    {
     "data": {
      "text/plain": [
       "0.24242849739213013"
      ]
     },
     "execution_count": 36,
     "metadata": {},
     "output_type": "execute_result"
    }
   ],
   "source": [
    "gbm_1 = gbm.fit(X=svd_mat_train,y = y_train)\n",
    "pred_val_gbm1 = gbm_1.predict(svd_mat_val)\n",
    "cohen_kappa_score(pred_val_gbm1,y_val)"
   ]
  },
  {
   "cell_type": "code",
   "execution_count": 37,
   "metadata": {
    "id": "Qc7s4tE7uuHB"
   },
   "outputs": [],
   "source": [
    "svd_new = TruncatedSVD(n_components=150)"
   ]
  },
  {
   "cell_type": "code",
   "execution_count": 38,
   "metadata": {
    "id": "OgdiGPHWttyS"
   },
   "outputs": [],
   "source": [
    "word_vec = svd_new.fit_transform(tfidf_mat_train.T)"
   ]
  },
  {
   "cell_type": "code",
   "execution_count": 39,
   "metadata": {
    "colab": {
     "base_uri": "https://localhost:8080/"
    },
    "id": "YVcSDJP3vPGB",
    "outputId": "86341c2e-4fe8-4169-a117-65adbd4db991"
   },
   "outputs": [
    {
     "data": {
      "text/plain": [
       "(3657, 150)"
      ]
     },
     "execution_count": 39,
     "metadata": {},
     "output_type": "execute_result"
    }
   ],
   "source": [
    "word_vec.shape"
   ]
  },
  {
   "cell_type": "code",
   "execution_count": 41,
   "metadata": {
    "colab": {
     "base_uri": "https://localhost:8080/"
    },
    "id": "5KeNzR6uvSQh",
    "outputId": "389b3fd3-d937-4441-ea53-09a201aa5b70"
   },
   "outputs": [
    {
     "data": {
      "text/plain": [
       "1562"
      ]
     },
     "execution_count": 41,
     "metadata": {},
     "output_type": "execute_result"
    }
   ],
   "source": [
    "tfidf.vocabulary_[\"hulk\"] #giving the index"
   ]
  },
  {
   "cell_type": "code",
   "execution_count": 42,
   "metadata": {
    "id": "T6ZMhtnpwK3H"
   },
   "outputs": [],
   "source": [
    "from sklearn.metrics import pairwise_distances"
   ]
  },
  {
   "cell_type": "code",
   "execution_count": 55,
   "metadata": {
    "id": "WkAaDBzkwcnU"
   },
   "outputs": [],
   "source": [
    "dist_hulk = pairwise_distances(X=word_vec,\n",
    "                               Y = word_vec[1562,:].reshape(1,-1),\n",
    "                               metric =\"cosine\")"
   ]
  },
  {
   "cell_type": "code",
   "execution_count": 48,
   "metadata": {
    "colab": {
     "base_uri": "https://localhost:8080/"
    },
    "id": "pq0t-AuwxWiv",
    "outputId": "43006fb2-8d82-4dec-fc54-2ceb5e4f8643"
   },
   "outputs": [
    {
     "data": {
      "text/plain": [
       "array([1562, 3275, 1699, ..., 1121, 2211,  957])"
      ]
     },
     "execution_count": 48,
     "metadata": {},
     "output_type": "execute_result"
    }
   ],
   "source": [
    "dist_hulk.flatten().argsort()"
   ]
  },
  {
   "cell_type": "code",
   "execution_count": 50,
   "metadata": {
    "id": "ty0Z2eIdxtcc"
   },
   "outputs": [],
   "source": [
    "id_to_word = { v:k for k,v in tfidf.vocabulary_.items()}"
   ]
  },
  {
   "cell_type": "code",
   "execution_count": 51,
   "metadata": {
    "colab": {
     "base_uri": "https://localhost:8080/",
     "height": 35
    },
    "id": "0E0GirS9x31w",
    "outputId": "7ed65fbd-8e00-4d82-b53f-2f74a0e26fc9"
   },
   "outputs": [
    {
     "data": {
      "application/vnd.google.colaboratory.intrinsic+json": {
       "type": "string"
      },
      "text/plain": [
       "'thirty'"
      ]
     },
     "execution_count": 51,
     "metadata": {},
     "output_type": "execute_result"
    }
   ],
   "source": [
    "id_to_word[3274]"
   ]
  },
  {
   "cell_type": "code",
   "execution_count": 52,
   "metadata": {
    "colab": {
     "base_uri": "https://localhost:8080/",
     "height": 35
    },
    "id": "q1ULWLEfx_KD",
    "outputId": "3c8960d7-fee1-4cbd-9f0f-adbec0a7b5a6"
   },
   "outputs": [
    {
     "data": {
      "application/vnd.google.colaboratory.intrinsic+json": {
       "type": "string"
      },
      "text/plain": [
       "'iron'"
      ]
     },
     "execution_count": 52,
     "metadata": {},
     "output_type": "execute_result"
    }
   ],
   "source": [
    "id_to_word[1699]"
   ]
  },
  {
   "cell_type": "code",
   "execution_count": 53,
   "metadata": {
    "colab": {
     "base_uri": "https://localhost:8080/",
     "height": 35
    },
    "id": "h5We7vSwyCiz",
    "outputId": "547ba0bb-159b-4d85-d0ee-db121b21fb1f"
   },
   "outputs": [
    {
     "data": {
      "application/vnd.google.colaboratory.intrinsic+json": {
       "type": "string"
      },
      "text/plain": [
       "'hulk'"
      ]
     },
     "execution_count": 53,
     "metadata": {},
     "output_type": "execute_result"
    }
   ],
   "source": [
    "id_to_word[1562]"
   ]
  }
 ],
 "metadata": {
  "colab": {
   "collapsed_sections": [],
   "name": "Preetam_Saha_16.08.2022_rating_predictions__tfidf_analysis_of_movie_ratings.ipynb",
   "provenance": []
  },
  "kernelspec": {
   "display_name": "Python 3",
   "language": "python",
   "name": "python3"
  },
  "language_info": {
   "codemirror_mode": {
    "name": "ipython",
    "version": 3
   },
   "file_extension": ".py",
   "mimetype": "text/x-python",
   "name": "python",
   "nbconvert_exporter": "python",
   "pygments_lexer": "ipython3",
   "version": "3.8.8"
  }
 },
 "nbformat": 4,
 "nbformat_minor": 1
}
